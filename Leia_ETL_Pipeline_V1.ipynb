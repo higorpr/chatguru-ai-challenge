{
 "cells": [
  {
   "cell_type": "markdown",
   "id": "ca70840a",
   "metadata": {},
   "source": [
    "## Initial Library Import"
   ]
  },
  {
   "cell_type": "code",
   "execution_count": 1,
   "id": "70895b53",
   "metadata": {},
   "outputs": [],
   "source": [
    "import pandas as pd\n",
    "import numpy as np\n",
    "import os\n",
    "import glob\n",
    "import re\n",
    "\n",
    "from time import time \n",
    "from collections import defaultdict\n",
    "\n",
    "from LeIA import SentimentIntensityAnalyzer"
   ]
  },
  {
   "cell_type": "markdown",
   "id": "ffbcf7aa",
   "metadata": {},
   "source": [
    "## Data Import"
   ]
  },
  {
   "cell_type": "markdown",
   "id": "d591fd60",
   "metadata": {},
   "source": [
    "Import chat file from user input:"
   ]
  },
  {
   "cell_type": "code",
   "execution_count": 2,
   "id": "bde4e3cb",
   "metadata": {},
   "outputs": [
    {
     "name": "stdout",
     "output_type": "stream",
     "text": [
      "Please input the target file path:test_chat.txt\n"
     ]
    }
   ],
   "source": [
    "file = input(\"Please input the target file path:\")\n",
    "files = [file]"
   ]
  },
  {
   "cell_type": "markdown",
   "id": "46a31439",
   "metadata": {},
   "source": [
    "Function to generate messages and chats dataframe:"
   ]
  },
  {
   "cell_type": "code",
   "execution_count": 3,
   "id": "e7e87f81",
   "metadata": {},
   "outputs": [],
   "source": [
    "def import_data(chat_files_list):\n",
    "    # Create dictionaries to structure dataframe data\n",
    "    chats_dict = {'id':[],'num_client_messages':[],'num_service_messages':[]}\n",
    "    messages_dict = {'id':[],'chat_id':[],'order_in_chat':[],'text':[],'source':[]}\n",
    "\n",
    "    line_type = 'n'\n",
    "    sender_type = 'a'\n",
    "\n",
    "    # Start global chat and message counter\n",
    "    message_id = 0\n",
    "    chat_id = 1\n",
    "    message_order = 0\n",
    "    num_client_messages = 0\n",
    "    num_service_messages = 0\n",
    "\n",
    "    for chat in chat_files_list:\n",
    "        with open(chat, 'r',encoding='utf-8') as file:\n",
    "            # Iterate through each line in chat file\n",
    "            for line in file:\n",
    "\n",
    "                # Skip empty line\n",
    "                if line.strip() == '':\n",
    "                    continue\n",
    "\n",
    "                 # End of chat (counters: update chat and restart messages)\n",
    "                if line.strip() == '_(Não é preciso responder essa mensagem.)_':\n",
    "                    chats_dict['id'].append(chat_id)\n",
    "                    chats_dict['num_client_messages'].append(num_client_messages)\n",
    "                    chats_dict['num_service_messages'].append(num_service_messages)\n",
    "                    chat_id += 1\n",
    "                    num_client_messages = 0\n",
    "                    num_service_messages = 0\n",
    "                    message_order = 0\n",
    "                    continue\n",
    "\n",
    "                # Verification of line type\n",
    "                try:\n",
    "                    second_item = line.split(' ')[1]                    \n",
    "                    devided_second = second_item.split('--')[1]\n",
    "\n",
    "                    if devided_second == 'Atendente:':\n",
    "                        sender_type = 'a'\n",
    "                        line_type = 'new'\n",
    "                    elif devided_second == 'Cliente:':\n",
    "                        sender_type = 'c'\n",
    "                        line_type = 'new'\n",
    "                    else:\n",
    "                        line_type = 'continuation'                       \n",
    "                except:\n",
    "                    line_type = 'continuation'\n",
    "\n",
    "                if sender_type == 'a':\n",
    "                    if line_type == 'new':\n",
    "                        # Updates and appends messages id to message dict\n",
    "                        message_id += 1\n",
    "                        messages_dict['id'].append(message_id)\n",
    "\n",
    "                        # Appends chat id to message dict\n",
    "                        messages_dict['chat_id'].append(chat_id)\n",
    "\n",
    "                        # Updates and adds message order to message dict\n",
    "                        messages_dict['order_in_chat'].append('NA')\n",
    "\n",
    "                        # Updates number of service messages\n",
    "                        num_service_messages += 1\n",
    "\n",
    "                        # Adds text line to message dict\n",
    "                        message_text = line.split('Atendente:')[1].strip()\n",
    "                        messages_dict['text'].append(message_text)\n",
    "\n",
    "                        # Adds message source\n",
    "                        messages_dict['source'].append('A')\n",
    "\n",
    "                    else :\n",
    "                        # Adds text to previous line\n",
    "                        messages_dict['text'][message_id-1] = messages_dict['text'][message_id-1].strip() + ' ' + line.strip()\n",
    "\n",
    "                elif sender_type == 'c':\n",
    "                    if line_type == 'new':\n",
    "                        # Updates and appends messages id to message dict\n",
    "                        message_id += 1\n",
    "                        messages_dict['id'].append(message_id)\n",
    "\n",
    "                        # Appends chat id to message dict\n",
    "                        messages_dict['chat_id'].append(chat_id)\n",
    "\n",
    "                        # Updates and adds message order to message dict\n",
    "                        message_order += 1\n",
    "                        messages_dict['order_in_chat'].append(message_order)\n",
    "\n",
    "                        # Updates number of client messages\n",
    "                        num_client_messages += 1\n",
    "\n",
    "                        # Adds text line to message dict\n",
    "                        message_text = line.split('Cliente:')[1].strip()\n",
    "                        messages_dict['text'].append(message_text)\n",
    "\n",
    "                        # Adds message source\n",
    "                        messages_dict['source'].append('C')\n",
    "\n",
    "                    else:\n",
    "                        # Adds text to previous line\n",
    "                        messages_dict['text'][message_id-1] = messages_dict['text'][message_id-1].strip() + ' ' + line.strip()\n",
    "    \n",
    "    chats_df = pd.DataFrame(data=chats_dict)\n",
    "    messages_df = pd.DataFrame(data=messages_dict)\n",
    "    return {'chats':chats_df,'messages':messages_df}\n"
   ]
  },
  {
   "cell_type": "code",
   "execution_count": 4,
   "id": "a49de87c",
   "metadata": {},
   "outputs": [],
   "source": [
    "# Transform txt data into pandas dataframe:\n",
    "dataframes = import_data(files)\n",
    "test_chat_df, test_messages_df = dataframes['chats'], dataframes['messages']"
   ]
  },
  {
   "cell_type": "markdown",
   "id": "419509f5",
   "metadata": {},
   "source": [
    "## Data Processing"
   ]
  },
  {
   "cell_type": "markdown",
   "id": "fa1d4bc1",
   "metadata": {},
   "source": [
    "Cleanup data from attendant messages:"
   ]
  },
  {
   "cell_type": "code",
   "execution_count": 5,
   "id": "c5fc4471",
   "metadata": {},
   "outputs": [],
   "source": [
    "# Cleanup function\n",
    "def messages_cleanup(messages_df):\n",
    "    cleaned_message_df = messages_df[messages_df['source'] == 'C']\n",
    "    cleaned_message_df.reset_index(drop=True,inplace=True)\n",
    "    \n",
    "    return cleaned_message_df"
   ]
  },
  {
   "cell_type": "code",
   "execution_count": 6,
   "id": "d1b4a3a3",
   "metadata": {},
   "outputs": [],
   "source": [
    "cl_test_messages_df = messages_cleanup(test_messages_df)"
   ]
  },
  {
   "cell_type": "markdown",
   "id": "2b69071f",
   "metadata": {},
   "source": [
    "## Model Application"
   ]
  },
  {
   "cell_type": "markdown",
   "id": "69550657",
   "metadata": {},
   "source": [
    "Apply LeIA model:"
   ]
  },
  {
   "cell_type": "code",
   "execution_count": 7,
   "id": "64f8aec0",
   "metadata": {},
   "outputs": [],
   "source": [
    "# Function to normalize LeIA compounds:\n",
    "def extract_leia_sentiment(compound):\n",
    "    sent_output = {'label':'', 'new_score':0}    \n",
    "    \n",
    "    sent_output['new_score'] = (compound + 1) / 2\n",
    "    \n",
    "    if compound == 0:\n",
    "        sent_output['label'] = 0\n",
    "    elif compound > 0.2:\n",
    "        sent_output['label'] = 2        \n",
    "    elif compound > 0:\n",
    "        sent_output['label'] = 1\n",
    "    elif compound >= -0.2 :\n",
    "        sent_output['label'] = -1\n",
    "    else:\n",
    "        sent_output['label'] = -2\n",
    "        \n",
    "    return sent_output"
   ]
  },
  {
   "cell_type": "code",
   "execution_count": 8,
   "id": "b5772123",
   "metadata": {},
   "outputs": [],
   "source": [
    "# LeIA Method Function\n",
    "def chat_classification(messages_df):\n",
    "    \n",
    "    analyzer = SentimentIntensityAnalyzer()\n",
    "    \n",
    "    # Apply leia classifier\n",
    "    classified_df = messages_df.assign(\n",
    "    score=messages_df['text'].apply(lambda x: analyzer.polarity_scores(x)['compound']))\n",
    "    \n",
    "    # Generate labels and normalized classification score\n",
    "    classified_df = classified_df.assign(\n",
    "        classification_score = classified_df['score'].apply(lambda x: extract_leia_sentiment(x)['new_score']),\n",
    "        classification_label = classified_df['score'].apply(lambda x: extract_leia_sentiment(x)['label']),\n",
    "    )\n",
    "    \n",
    "    # Remove unecessary columns\n",
    "    classified_df.drop(columns=['score','source'],inplace=True)\n",
    "    \n",
    "    return classified_df"
   ]
  },
  {
   "cell_type": "code",
   "execution_count": 9,
   "id": "4d0a4a83",
   "metadata": {},
   "outputs": [],
   "source": [
    "classified_messages_df = chat_classification(cl_test_messages_df)"
   ]
  },
  {
   "cell_type": "markdown",
   "id": "6ab5dfd1",
   "metadata": {},
   "source": [
    "## Application of Chat Sentiment Calculation Method"
   ]
  },
  {
   "cell_type": "markdown",
   "id": "a01f505b",
   "metadata": {},
   "source": [
    "Calculate message weights:"
   ]
  },
  {
   "cell_type": "code",
   "execution_count": 10,
   "id": "a776a3d4",
   "metadata": {},
   "outputs": [],
   "source": [
    "# Function to calculate individual message weight:\n",
    "def calculate_weight(order:int, n_messages:int):\n",
    "    if n_messages < 1 :\n",
    "        raise Exception('There should be at least one message to be analyzed')\n",
    "    den = 0\n",
    "    for i in range(1, n_messages + 1):\n",
    "        den += i**2\n",
    "    w = (order**2) / den\n",
    "    \n",
    "    return w"
   ]
  },
  {
   "cell_type": "code",
   "execution_count": 11,
   "id": "a8ec02ab",
   "metadata": {},
   "outputs": [],
   "source": [
    "# Function to generate a dataframe with weighted messages:\n",
    "def generate_weighted_df(df):\n",
    "    n_messages = df.shape[0]\n",
    "    df = df.assign(\n",
    "        message_weight = df.apply(lambda x: calculate_weight(x['order_in_chat'],n_messages), axis=1)\n",
    "    )\n",
    "    \n",
    "    return df"
   ]
  },
  {
   "cell_type": "code",
   "execution_count": 12,
   "id": "60722e41",
   "metadata": {},
   "outputs": [],
   "source": [
    "weighted_df = generate_weighted_df(classified_messages_df)"
   ]
  },
  {
   "cell_type": "markdown",
   "id": "13f6cedc",
   "metadata": {},
   "source": [
    "Calculate whole chat sentiment:"
   ]
  },
  {
   "cell_type": "code",
   "execution_count": 13,
   "id": "baffdeff",
   "metadata": {},
   "outputs": [],
   "source": [
    "# Function to calculate chat sentiment based on \n",
    "# message weights and classification score\n",
    "\n",
    "def calculate_chat_sentiment_coef(df):\n",
    "    num = 0\n",
    "    den = 0\n",
    "    for idx, row in df.iterrows():\n",
    "        num += row['classification_label'] * row['message_weight']\n",
    "        den += row['message_weight']\n",
    "    coef = num / den\n",
    "    return coef"
   ]
  },
  {
   "cell_type": "code",
   "execution_count": 14,
   "id": "b01d2d82",
   "metadata": {},
   "outputs": [
    {
     "name": "stdout",
     "output_type": "stream",
     "text": [
      "The satisfaction coefficient of the provided chat is: 0.6016042780748664.\n"
     ]
    }
   ],
   "source": [
    "coefficient = calculate_chat_sentiment_coef(weighted_df)\n",
    "print(f\"The satisfaction coefficient of the provided chat is: {coefficient}.\")"
   ]
  },
  {
   "cell_type": "code",
   "execution_count": 15,
   "id": "0dd8995b",
   "metadata": {},
   "outputs": [],
   "source": [
    "# Function to generate the satisfaction label of the chat:\n",
    "def generate_sentiment_label(coef:float):\n",
    "    label = ''\n",
    "    if coef > 2 or coef <-2:\n",
    "        return 'Houve um erro, por favor entre em contato com o suporte da ChatGuru'\n",
    "    \n",
    "    if coef <= -1:\n",
    "        label = 'Insatisfeito'        \n",
    "    elif coef < -0.2:\n",
    "        label = 'Levemente Insatisfeito'\n",
    "    elif coef <= 0.2:\n",
    "        label = 'Neutro'\n",
    "    elif coef < 1:\n",
    "        label = 'Levemente Satisfeito'\n",
    "    else:\n",
    "        label = 'Satisfeito'\n",
    "    \n",
    "    return label"
   ]
  },
  {
   "cell_type": "code",
   "execution_count": 16,
   "id": "6ef3da1b",
   "metadata": {},
   "outputs": [
    {
     "name": "stdout",
     "output_type": "stream",
     "text": [
      "The satisfaction label for the calculated coefficient is \"Levemente Satisfeito\".\n"
     ]
    }
   ],
   "source": [
    "sat_label = generate_sentiment_label(coefficient)\n",
    "print(f'The satisfaction label for the calculated coefficient is \"{sat_label}\".' )"
   ]
  },
  {
   "cell_type": "markdown",
   "id": "efc147ba",
   "metadata": {},
   "source": [
    "## Report Creation"
   ]
  },
  {
   "cell_type": "markdown",
   "id": "4624cc88",
   "metadata": {},
   "source": [
    "### Report Library Import"
   ]
  },
  {
   "cell_type": "code",
   "execution_count": 17,
   "id": "803fd9b8",
   "metadata": {},
   "outputs": [],
   "source": [
    "import reportlab\n",
    "from reportlab.lib.pagesizes import letter\n",
    "from reportlab.lib import colors\n",
    "from reportlab.platypus import SimpleDocTemplate, Paragraph, Table, TableStyle, Spacer, ListFlowable, PageBreak\n",
    "from  reportlab.platypus.tableofcontents import TableOfContents\n",
    "from reportlab.lib.styles import getSampleStyleSheet\n",
    "from reportlab.lib.styles import ParagraphStyle as PS"
   ]
  },
  {
   "cell_type": "markdown",
   "id": "1e7cc15d",
   "metadata": {},
   "source": [
    "Format chat to be inserted into report as analysis object:"
   ]
  },
  {
   "cell_type": "code",
   "execution_count": 18,
   "id": "9d8ab5d0",
   "metadata": {},
   "outputs": [],
   "source": [
    "# Function to format .txt chat and return it as a list:\n",
    "def format_chat(chat_path):\n",
    "    \n",
    "    chat_text = []\n",
    "    line_type = ''\n",
    "    sender_type = ''\n",
    "    \n",
    "    with open(chat_path, 'r',encoding='utf-8') as file:\n",
    "        for line in file:\n",
    "            \n",
    "            # Skip empty line\n",
    "            if line.strip() == '':\n",
    "                continue\n",
    "\n",
    "             # End of chat\n",
    "            if line.strip() == '_(Não é preciso responder essa mensagem.)_':\n",
    "                break\n",
    "\n",
    "            # Verification of line type\n",
    "            try:\n",
    "                second_item = line.split(' ')[1]             \n",
    "                devided_second = second_item.split('--')[1]\n",
    "\n",
    "                if devided_second.lower() == 'atendente:':\n",
    "                    sender_type = 'a'\n",
    "                    line_type = 'new'\n",
    "                elif devided_second.lower() == 'cliente:':\n",
    "                    sender_type = 'c'\n",
    "                    line_type = 'new'\n",
    "                else:\n",
    "                    line_type = 'continuation'                       \n",
    "            except:\n",
    "                line_type = 'continuation'\n",
    "\n",
    "            if sender_type == 'a':\n",
    "                if line_type == 'new':\n",
    "                    # Adds text line whole chat string\n",
    "                    message_text = line.split('Atendente:')[1].strip()\n",
    "                    chat_text.append('[Atendente] '+ message_text)\n",
    "\n",
    "                else :\n",
    "                    # Adds text to previous line\n",
    "                    index = len(chat_text) - 1\n",
    "                    chat_text[index] = chat_text[index] + line.strip()\n",
    "\n",
    "            elif sender_type == 'c':\n",
    "                if line_type == 'new':\n",
    "                    # Adds text line whole chat string\n",
    "                    message_text = line.split('Cliente:')[1].strip()\n",
    "                    chat_text.append('[Cliente] '+ message_text)\n",
    "\n",
    "                else :\n",
    "                    # Adds text to previous line\n",
    "                    index = len(chat_text) - 1\n",
    "                    chat_text[index] = chat_text[index] + line.strip()\n",
    "\n",
    "    return chat_text"
   ]
  },
  {
   "cell_type": "code",
   "execution_count": 19,
   "id": "434644ea",
   "metadata": {},
   "outputs": [],
   "source": [
    "# Create formated chat list\n",
    "formated_chat = format_chat(file)"
   ]
  },
  {
   "cell_type": "markdown",
   "id": "440c9692",
   "metadata": {},
   "source": [
    "Create report (MVP version):"
   ]
  },
  {
   "cell_type": "code",
   "execution_count": 20,
   "id": "dcf6d88b",
   "metadata": {},
   "outputs": [],
   "source": [
    "def create_report(report_name:str, formated_chat:str, sentiment_coef:float):\n",
    "    # Create document\n",
    "    doc = SimpleDocTemplate(report_name, pagesize=letter)\n",
    "    \n",
    "    # Report element list\n",
    "    elements = []\n",
    "    # Styles Class Instance\n",
    "    styles = getSampleStyleSheet()\n",
    "    # Creates a style for centered text\n",
    "    centered_style = PS(name='CenteredStyle', parent=styles['Heading3'], alignment=1)\n",
    "    \n",
    "    # TITLE  \n",
    "    title = Paragraph('Relatório de Análise de Sentimento do Chat', styles['Title'])\n",
    "    elements.append(title)\n",
    "    elements.append(Spacer(1,20))\n",
    "    \n",
    "    # SECTION - \"Method for Sentiment Analysis\"\n",
    "    section_title = Paragraph('Método para Análise de Sentimento',styles['Heading1'])\n",
    "    elements.append(section_title)\n",
    "    \n",
    "    # SUBSECTION - \"Method Description\"\n",
    "    subtitle = Paragraph('Descrição do Método',styles['Heading2'])\n",
    "    elements.append(subtitle)\n",
    "    elements.append(Spacer(1,10))\n",
    "    \n",
    "    # TEXT - \"method description\"\n",
    "    method_introduction = 'O método para a obtenção da estimativa do sentimento de um cliente durante '\\\n",
    "    'uma interação com o atendimento consiste em :'\n",
    "    \n",
    "    text = Paragraph(method_introduction,styles['Normal'])\n",
    "    elements.append(text)\n",
    "    elements.append(Spacer(1,10))    \n",
    "    \n",
    "    method_list = [\n",
    "        'Análise do sentimento de todas as mensagens dos clientes',\n",
    "        'Cálculo do peso de cada mensagem',\n",
    "        'Cálculo da média do sentimento do chat completo',\n",
    "        'Interpretação do resultado da análise'\n",
    "    ]\n",
    "    \n",
    "    numbered_list = ListFlowable(\n",
    "        [Paragraph(f\"{item}\", styles['Normal']) for i, item in enumerate(method_list, start=1)],\n",
    "        bulletType='bullet',\n",
    "        leftIndent=20,\n",
    "    ) \n",
    "    elements.append(numbered_list)\n",
    "    elements.append(Spacer(1,10))\n",
    "    \n",
    "    entry_1 = 'O primeiro passo consiste na aplicação do modelo de aprendizado de máquina treinado para a '\\\n",
    "    'classificação do sentimento do cliente em cada uma das mensagens enviadas para o atendente, gerando assim '\\\n",
    "    'um nível estimado de satisfação do cliente que varia entre \"Satisfeito\", \"Levemente Satisfeito\", \"Neutro\"'\\\n",
    "    ', \"Levemente Insatisfeito\" ou \"Insatisfeito\".'\n",
    "    \n",
    "    text = Paragraph(entry_1,styles['Normal'])\n",
    "    elements.append(text)\n",
    "    elements.append(Spacer(1,10))\n",
    "    \n",
    "    entry_2 = 'O que se segue é a transformação das classificações dos sentimentos individuais '\\\n",
    "    'expressos em cada uma das mensagens em pesos matemáticos que compõem o sentimento do cliente '\\\n",
    "    'durante todo o atendimento. Esses pesos são definidos seguindo-se a metodologia formulada internamente'\\\n",
    "    ' pelo time de Inteligência Artificial da ChatGuru.'\n",
    "    \n",
    "    text = Paragraph(entry_2,styles['Normal'])\n",
    "    elements.append(text)\n",
    "    elements.append(Spacer(1,10))\n",
    "    \n",
    "    entry_3 = 'Usando-se parâmetros obtidos do chat completo e do modelo de IA da ChatGuru, é calculado um '\\\n",
    "    'coeficiente numérico de satisfação do atendimento completo.'\n",
    "    \n",
    "    text = Paragraph(entry_3,styles['Normal'])\n",
    "    elements.append(text)\n",
    "    elements.append(Spacer(1,10))\n",
    "    \n",
    "    entry_4 = 'Por fim, esse coeficiente de satisfação é interpretado em termos não-matemáticos para ser '\\\n",
    "    'apreciado pelo contratante do serviço.'\n",
    "    \n",
    "    text = Paragraph(entry_4,styles['Normal'])\n",
    "    elements.append(text)\n",
    "    elements.append(Spacer(1,20))\n",
    "    \n",
    "    # SECTION - \"Sentiment Analysis\"\n",
    "    section_title = Paragraph('Análise de Sentimento',styles['Heading1'])\n",
    "    elements.append(section_title)\n",
    "    \n",
    "    # SUBSECTION - \"Chat Presentation\"\n",
    "    subtitle = Paragraph('Apresentação do Chat',styles['Heading2'])\n",
    "    elements.append(subtitle)\n",
    "    elements.append(Spacer(1,10))\n",
    "    \n",
    "    # TEXT - \"chat content\"\n",
    "    for line in formated_chat:\n",
    "        chat = Paragraph(line, styles['Normal'])\n",
    "        elements.append(chat)\n",
    "        elements.append(Spacer(1,5))\n",
    "    \n",
    "    # SUBSECTION - \"Analysis result\"\n",
    "    subtitle = Paragraph('Resultados da Análise',styles['Heading2'])\n",
    "    elements.append(subtitle)\n",
    "    elements.append(Spacer(1,10))\n",
    "    \n",
    "    # TEXT - \"analysis result intro\"\n",
    "    analysis_result = 'Ao se aplicar o método já descrito neste relatório, o coeficiente de satisfação do usuário na '\\\n",
    "    'conversa apresentada como objeto de análise foi de:'\n",
    "    text = Paragraph(analysis_result, styles['Normal'])\n",
    "    elements.append(text)\n",
    "    elements.append(Spacer(1,8))\n",
    "    \n",
    "    # TEXT - \"sentiment coefficient\"\n",
    "    str_coef = str(round(sentiment_coef,3))\n",
    "    text = f\"coeficiente de satisfação = {str_coef}\"\n",
    "    centered_text = Paragraph(text, centered_style)\n",
    "    elements.append(centered_text)\n",
    "    elements.append(Spacer(1,10))\n",
    "    \n",
    "    # TEXT - \"result interpretation\"\n",
    "    sentiment_label = generate_sentiment_label(sentiment_coef)\n",
    "    interpretation = f\"Dado o coeficiente de satisfação apresentado, podemos estimar que o cliente se sentiu:\"\n",
    "    text = Paragraph(interpretation, styles['Normal'])\n",
    "    elements.append(text)\n",
    "    \n",
    "    centered_text = Paragraph(sentiment_label, centered_style)\n",
    "    elements.append(centered_text)\n",
    "    elements.append(Spacer(1,10))\n",
    "\n",
    "    # Build the rest of the report\n",
    "    doc.build(elements)\n",
    "\n",
    "    return doc"
   ]
  },
  {
   "cell_type": "code",
   "execution_count": 21,
   "id": "02995f42",
   "metadata": {},
   "outputs": [
    {
     "name": "stdout",
     "output_type": "stream",
     "text": [
      "The report was created at C:\\Users\\higor\\OneDrive\\Área de Trabalho\\Higor\\ChatGuru\\chatguru-ai-challenge\n"
     ]
    }
   ],
   "source": [
    "import os\n",
    "report_name = f\"sentiment_analysis_report-{file.split('.txt')[0]}.pdf\"\n",
    "try:\n",
    "    chat_sentiment_report = create_report(report_name, formated_chat, coefficient)\n",
    "    print(f'The report was created at {os.getcwd()}')\n",
    "except:\n",
    "    print('Error on report creation.')"
   ]
  }
 ],
 "metadata": {
  "kernelspec": {
   "display_name": "Python 3 (ipykernel)",
   "language": "python",
   "name": "python3"
  },
  "language_info": {
   "codemirror_mode": {
    "name": "ipython",
    "version": 3
   },
   "file_extension": ".py",
   "mimetype": "text/x-python",
   "name": "python",
   "nbconvert_exporter": "python",
   "pygments_lexer": "ipython3",
   "version": "3.10.7"
  }
 },
 "nbformat": 4,
 "nbformat_minor": 5
}
