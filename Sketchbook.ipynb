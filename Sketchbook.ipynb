{
 "cells": [
  {
   "cell_type": "markdown",
   "id": "6175d16a",
   "metadata": {},
   "source": [
    "Uso do IJson para ler arquivos json grandes (somente a primeira entrada [i] )"
   ]
  },
  {
   "cell_type": "code",
   "execution_count": null,
   "id": "db603ded",
   "metadata": {},
   "outputs": [],
   "source": [
    "i=0\n",
    "with open(chat_file,'r') as file:\n",
    "    for record in ijson.items(file,'item'):\n",
    "        if i < 1:\n",
    "            print(record['_id']['$oid'])\n",
    "            i += 1\n"
   ]
  },
  {
   "cell_type": "code",
   "execution_count": null,
   "id": "465279ea",
   "metadata": {},
   "outputs": [],
   "source": [
    "# Chat dict model\n",
    "data_dict = {'id':[],'user_name':[],'num_messages_received':[],'num_messages_sent':[]}\n",
    "\n",
    "# Iterate chats json and retrieve necessary info:\n",
    "with open(chat_file,'r') as file:\n",
    "    for record in ijson.items(file,'item'):\n",
    "        data_dict['id'].append(record['_id']['$oid'])\n",
    "        data_dict['user_name'].append(record['name'])\n",
    "        data_dict['num_messages_received'].append(record['num_messages_received'])\n",
    "        data_dict['num_messages_sent'].append(record['num_messages_sent'])\n",
    "        \n",
    "# Check number of entries\n",
    "print(len(data_dict['id']))\n",
    "        "
   ]
  },
  {
   "cell_type": "code",
   "execution_count": null,
   "id": "27c598d6",
   "metadata": {},
   "outputs": [],
   "source": [
    "# Message dict model\n",
    "data_dict = {'id':[],'send_date':[],'chat_id':[],'status':[],'text':[],'quotes':[]}\n",
    "\n",
    "# Iterate chats json and retrieve necessary info:\n",
    "with open(messages_file,'r') as file:\n",
    "    for record in ijson.items(file,'item'):\n",
    "        data_dict['id'].append(record['_id']['$oid'])\n",
    "        \n",
    "        if 'send_date' in record:\n",
    "            data_dict['send_date'].append(record['send_date']['$date'])\n",
    "        else:\n",
    "            data_dict['send_date'].append('sem send_date')\n",
    "            \n",
    "        if 'chat' in record:\n",
    "            data_dict['chat_id'].append(record['chat']['$oid'])\n",
    "        else:\n",
    "            data_dict['chat_id'].append('sem chat_id')\n",
    "            \n",
    "        data_dict['status'].append(record['status'])\n",
    "        \n",
    "        if 'text' in record:\n",
    "            data_dict['text'].append(record['text'])\n",
    "        else:\n",
    "            data_dict['text'].append('sem texto')\n",
    "        \n",
    "        if 'quotes' in record:\n",
    "            data_dict['quotes'].append(record['quotes'])\n",
    "        else:\n",
    "            data_dict['quotes'].append('sem quotes')\n",
    "        "
   ]
  },
  {
   "cell_type": "code",
   "execution_count": null,
   "id": "c18ceef1",
   "metadata": {},
   "outputs": [],
   "source": [
    "#     # Table data\n",
    "#     table_data = [\n",
    "#         ['Name','Age','City'],\n",
    "#         ['João','30','Rio de Janeiro'],\n",
    "#         ['Maria','25','Rio de Janeiro'],\n",
    "#         ['Pedro','32','Rio de Janeiro']\n",
    "#     ]\n",
    "    \n",
    "#     # Add table and create style\n",
    "#     table = Table(table_data)\n",
    "#     table_style = TableStyle([\n",
    "#         ('BACKGROUND', (0, 0), (-1, 0), colors.grey),  # Cor de fundo para a primeira linha (cabeçalho)\n",
    "#         ('TEXTCOLOR', (0, 0), (-1, 0), colors.whitesmoke),  # Cor do texto para a primeira linha\n",
    "#         ('ALIGN', (0, 0), (-1, -1), 'CENTER'),  # Alinhar o conteúdo no centro\n",
    "#         ('FONTNAME', (0, 0), (-1, 0), 'Helvetica-Bold'),  # Fonte em negrito para o cabeçalho\n",
    "#         ('BOTTOMPADDING', (0, 0), (-1, 0), 12),  # Espaçamento inferior para o cabeçalho\n",
    "#         ('BACKGROUND', (0, 1), (-1, -1), colors.beige),  # Cor de fundo para as outras linhas\n",
    "#     ])\n",
    "#     table.setStyle(table_style)\n",
    "    \n",
    "#     # Add table\n",
    "#     elements.append(table)\n",
    "#     elements.append(Spacer(1,10))"
   ]
  }
 ],
 "metadata": {
  "kernelspec": {
   "display_name": "Python 3 (ipykernel)",
   "language": "python",
   "name": "python3"
  },
  "language_info": {
   "codemirror_mode": {
    "name": "ipython",
    "version": 3
   },
   "file_extension": ".py",
   "mimetype": "text/x-python",
   "name": "python",
   "nbconvert_exporter": "python",
   "pygments_lexer": "ipython3",
   "version": "3.10.7"
  }
 },
 "nbformat": 4,
 "nbformat_minor": 5
}
