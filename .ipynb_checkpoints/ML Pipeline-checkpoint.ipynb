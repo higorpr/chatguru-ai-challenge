{
 "cells": [
  {
   "cell_type": "markdown",
   "id": "8ef009e4",
   "metadata": {},
   "source": [
    "## Inital Library Setup"
   ]
  },
  {
   "cell_type": "markdown",
   "id": "afac079e",
   "metadata": {},
   "source": [
    "Import necessary libs:"
   ]
  },
  {
   "cell_type": "code",
   "execution_count": 1,
   "id": "181a545c",
   "metadata": {},
   "outputs": [
    {
     "name": "stderr",
     "output_type": "stream",
     "text": [
      "C:\\Users\\higor\\OneDrive\\Área de Trabalho\\Higor\\ChatGuru\\chatguru-ai-challenge\\venv\\lib\\site-packages\\tqdm\\auto.py:21: TqdmWarning: IProgress not found. Please update jupyter and ipywidgets. See https://ipywidgets.readthedocs.io/en/stable/user_install.html\n",
      "  from .autonotebook import tqdm as notebook_tqdm\n"
     ]
    }
   ],
   "source": [
    "import pandas as pd\n",
    "import numpy as np\n",
    "import os\n",
    "import glob\n",
    "import multiprocessing\n",
    "import torch\n",
    "\n",
    "from time import time \n",
    "from gensim.models import Word2Vec\n",
    "from collections import defaultdict\n",
    "from gensim.models import KeyedVectors\n",
    "from gensim.test.utils import get_tmpfile\n",
    "from gensim.models.phrases import Phrases, Phraser\n",
    "\n",
    "from transformers import pipeline\n",
    "from transformers import BertTokenizer\n",
    "from transformers import AutoTokenizer\n",
    "from transformers import AutoModelForPreTraining\n",
    "from transformers import AutoModel\n",
    "from transformers import PreTrainedTokenizer, PreTrainedModel\n",
    "\n",
    "from LeIA import SentimentIntensityAnalyzer"
   ]
  },
  {
   "cell_type": "markdown",
   "id": "58410da8",
   "metadata": {},
   "source": [
    "## Data Preprocessing:"
   ]
  },
  {
   "cell_type": "markdown",
   "id": "67bfade5",
   "metadata": {},
   "source": [
    "### Extraction"
   ]
  },
  {
   "cell_type": "markdown",
   "id": "358f2903",
   "metadata": {},
   "source": [
    "Define variables to hold json paths:"
   ]
  },
  {
   "cell_type": "code",
   "execution_count": 2,
   "id": "1ab12296",
   "metadata": {},
   "outputs": [],
   "source": [
    "chat_messages_path = './chatguru'"
   ]
  },
  {
   "cell_type": "markdown",
   "id": "31c37e4d",
   "metadata": {},
   "source": [
    "Get chat files:"
   ]
  },
  {
   "cell_type": "code",
   "execution_count": 3,
   "id": "0e567105",
   "metadata": {
    "code_folding": []
   },
   "outputs": [],
   "source": [
    "chat_files = glob.glob(os.path.join(chat_messages_path,'*.txt'))"
   ]
  },
  {
   "cell_type": "markdown",
   "id": "66d265d0",
   "metadata": {},
   "source": [
    "Create chats and messages dictionaries:"
   ]
  },
  {
   "cell_type": "code",
   "execution_count": 4,
   "id": "e31dd194",
   "metadata": {
    "code_folding": []
   },
   "outputs": [],
   "source": [
    "# Create dictionaries to structure dataframe data\n",
    "chats_dict = {'id':[],'num_client_messages':[],'num_service_messages':[]}\n",
    "messages_dict = {'id':[],'chat_id':[],'order_in_chat':[],'text':[],'source':[]}\n",
    "\n",
    "# Start global chat and message counter\n",
    "message_id = 0\n",
    "chat_id = 1\n",
    "message_order = 0\n",
    "num_client_messages = 0\n",
    "num_service_messages = 0\n",
    "\n",
    "# Iterate through .txt chat files\n",
    "for chat in chat_files:\n",
    "    with open(chat, 'r',encoding='utf-8') as file:\n",
    "        # Iterate through each line in chat file\n",
    "        for line in file:\n",
    "                \n",
    "            # Skip empty line\n",
    "            if line.strip() == '':\n",
    "                continue\n",
    "            \n",
    "            # End of chat (counters: update chat and restart messages)\n",
    "            if line.strip() == '_(Não é preciso responder essa mensagem.)_':\n",
    "                chats_dict['id'].append(chat_id)\n",
    "                chats_dict['num_client_messages'].append(num_client_messages)\n",
    "                chats_dict['num_service_messages'].append(num_service_messages)\n",
    "                chat_id += 1\n",
    "                num_client_messages = 0\n",
    "                num_service_messages = 0\n",
    "                message_order = 0\n",
    "                continue\n",
    "                \n",
    "            word_list = line.split(' ')\n",
    "\n",
    "            # If first messages don't have a defined sender, skip them\n",
    "            if message_id == 0 and (word_list[0] != 'Atendente:' and word_list[0] != 'Cliente:'):\n",
    "                print(word_list[0])\n",
    "                continue\n",
    "\n",
    "            # Case sender is 'Atendente'\n",
    "            if word_list[0] == 'Atendente:':\n",
    "                \n",
    "                # Updates and appends messages id to message dict\n",
    "                message_id += 1\n",
    "                messages_dict['id'].append(message_id)\n",
    "                \n",
    "                # Appends chat id to message dict\n",
    "                messages_dict['chat_id'].append(chat_id)\n",
    "                \n",
    "                # Updates and adds message order to message dict\n",
    "                message_order += 1\n",
    "                messages_dict['order_in_chat'].append(message_order)\n",
    "                \n",
    "                # Updates number of service messages\n",
    "                num_service_messages += 1\n",
    "                \n",
    "                # Adds text line to message dict\n",
    "                messages_dict['text'].append(line)\n",
    "                \n",
    "                # Adds message source\n",
    "                messages_dict['source'].append('A')\n",
    "                \n",
    "\n",
    "            # Case sender is 'Cliente'\n",
    "            elif word_list[0] == 'Cliente:':\n",
    "                \n",
    "                # Updates and appends messages id to message dict\n",
    "                message_id += 1\n",
    "                messages_dict['id'].append(message_id)\n",
    "                \n",
    "                # Appends chat id to message dict\n",
    "                messages_dict['chat_id'].append(chat_id)\n",
    "                \n",
    "                # Updates and adds message order to message dict\n",
    "                message_order += 1\n",
    "                messages_dict['order_in_chat'].append(message_order)\n",
    "                \n",
    "                # Updates number of client messages\n",
    "                num_client_messages += 1\n",
    "                \n",
    "                # Adds text line to message dict\n",
    "                messages_dict['text'].append(line)\n",
    "                \n",
    "                # Adds message source\n",
    "                messages_dict['source'].append('C')\n",
    "\n",
    "            # Case where current line is a continuation of previous message\n",
    "            else:\n",
    "                # Adds text to previous line\n",
    "                messages_dict['text'][message_id-1] = messages_dict['text'][message_id-1] + line\n"
   ]
  },
  {
   "cell_type": "markdown",
   "id": "e79ab5c9",
   "metadata": {},
   "source": [
    "Create chats dataframe:"
   ]
  },
  {
   "cell_type": "code",
   "execution_count": 5,
   "id": "4a6809ce",
   "metadata": {},
   "outputs": [
    {
     "name": "stdout",
     "output_type": "stream",
     "text": [
      "Info about chats dataframe:\n",
      "\n",
      "<class 'pandas.core.frame.DataFrame'>\n",
      "RangeIndex: 5252 entries, 0 to 5251\n",
      "Data columns (total 3 columns):\n",
      " #   Column                Non-Null Count  Dtype\n",
      "---  ------                --------------  -----\n",
      " 0   id                    5252 non-null   int64\n",
      " 1   num_client_messages   5252 non-null   int64\n",
      " 2   num_service_messages  5252 non-null   int64\n",
      "dtypes: int64(3)\n",
      "memory usage: 123.2 KB\n"
     ]
    }
   ],
   "source": [
    "chat_df = pd.DataFrame(data=chats_dict)\n",
    "print('Info about chats dataframe:\\n')\n",
    "chat_df.info()"
   ]
  },
  {
   "cell_type": "markdown",
   "id": "089fe8af",
   "metadata": {},
   "source": [
    "First lines of chats dataframe:"
   ]
  },
  {
   "cell_type": "code",
   "execution_count": 6,
   "id": "08e20f2c",
   "metadata": {},
   "outputs": [
    {
     "data": {
      "text/html": [
       "<div>\n",
       "<style scoped>\n",
       "    .dataframe tbody tr th:only-of-type {\n",
       "        vertical-align: middle;\n",
       "    }\n",
       "\n",
       "    .dataframe tbody tr th {\n",
       "        vertical-align: top;\n",
       "    }\n",
       "\n",
       "    .dataframe thead th {\n",
       "        text-align: right;\n",
       "    }\n",
       "</style>\n",
       "<table border=\"1\" class=\"dataframe\">\n",
       "  <thead>\n",
       "    <tr style=\"text-align: right;\">\n",
       "      <th></th>\n",
       "      <th>id</th>\n",
       "      <th>num_client_messages</th>\n",
       "      <th>num_service_messages</th>\n",
       "    </tr>\n",
       "  </thead>\n",
       "  <tbody>\n",
       "    <tr>\n",
       "      <th>0</th>\n",
       "      <td>1</td>\n",
       "      <td>5</td>\n",
       "      <td>9</td>\n",
       "    </tr>\n",
       "    <tr>\n",
       "      <th>1</th>\n",
       "      <td>2</td>\n",
       "      <td>13</td>\n",
       "      <td>11</td>\n",
       "    </tr>\n",
       "    <tr>\n",
       "      <th>2</th>\n",
       "      <td>3</td>\n",
       "      <td>6</td>\n",
       "      <td>8</td>\n",
       "    </tr>\n",
       "    <tr>\n",
       "      <th>3</th>\n",
       "      <td>4</td>\n",
       "      <td>10</td>\n",
       "      <td>8</td>\n",
       "    </tr>\n",
       "    <tr>\n",
       "      <th>4</th>\n",
       "      <td>5</td>\n",
       "      <td>2</td>\n",
       "      <td>5</td>\n",
       "    </tr>\n",
       "    <tr>\n",
       "      <th>5</th>\n",
       "      <td>6</td>\n",
       "      <td>6</td>\n",
       "      <td>6</td>\n",
       "    </tr>\n",
       "    <tr>\n",
       "      <th>6</th>\n",
       "      <td>7</td>\n",
       "      <td>8</td>\n",
       "      <td>113</td>\n",
       "    </tr>\n",
       "    <tr>\n",
       "      <th>7</th>\n",
       "      <td>8</td>\n",
       "      <td>28</td>\n",
       "      <td>1393</td>\n",
       "    </tr>\n",
       "    <tr>\n",
       "      <th>8</th>\n",
       "      <td>9</td>\n",
       "      <td>0</td>\n",
       "      <td>3</td>\n",
       "    </tr>\n",
       "    <tr>\n",
       "      <th>9</th>\n",
       "      <td>10</td>\n",
       "      <td>0</td>\n",
       "      <td>4</td>\n",
       "    </tr>\n",
       "  </tbody>\n",
       "</table>\n",
       "</div>"
      ],
      "text/plain": [
       "   id  num_client_messages  num_service_messages\n",
       "0   1                    5                     9\n",
       "1   2                   13                    11\n",
       "2   3                    6                     8\n",
       "3   4                   10                     8\n",
       "4   5                    2                     5\n",
       "5   6                    6                     6\n",
       "6   7                    8                   113\n",
       "7   8                   28                  1393\n",
       "8   9                    0                     3\n",
       "9  10                    0                     4"
      ]
     },
     "execution_count": 6,
     "metadata": {},
     "output_type": "execute_result"
    }
   ],
   "source": [
    "chat_df.head(10)"
   ]
  },
  {
   "cell_type": "markdown",
   "id": "0dd5fcd8",
   "metadata": {},
   "source": [
    "Perform same actions for messages dictionary:"
   ]
  },
  {
   "cell_type": "code",
   "execution_count": 7,
   "id": "bcdc41e6",
   "metadata": {},
   "outputs": [
    {
     "name": "stdout",
     "output_type": "stream",
     "text": [
      "Info about messages dataframe:\n",
      "\n",
      "<class 'pandas.core.frame.DataFrame'>\n",
      "RangeIndex: 154975 entries, 0 to 154974\n",
      "Data columns (total 5 columns):\n",
      " #   Column         Non-Null Count   Dtype \n",
      "---  ------         --------------   ----- \n",
      " 0   id             154975 non-null  int64 \n",
      " 1   chat_id        154975 non-null  int64 \n",
      " 2   order_in_chat  154975 non-null  int64 \n",
      " 3   text           154975 non-null  object\n",
      " 4   source         154975 non-null  object\n",
      "dtypes: int64(3), object(2)\n",
      "memory usage: 5.9+ MB\n"
     ]
    }
   ],
   "source": [
    "message_df = pd.DataFrame(data=messages_dict)\n",
    "print('Info about messages dataframe:\\n')\n",
    "message_df.info()"
   ]
  },
  {
   "cell_type": "markdown",
   "id": "1bbc7156",
   "metadata": {},
   "source": [
    "Verification of last messages in dataframe:"
   ]
  },
  {
   "cell_type": "code",
   "execution_count": 8,
   "id": "7bdffc09",
   "metadata": {},
   "outputs": [
    {
     "data": {
      "text/html": [
       "<div>\n",
       "<style scoped>\n",
       "    .dataframe tbody tr th:only-of-type {\n",
       "        vertical-align: middle;\n",
       "    }\n",
       "\n",
       "    .dataframe tbody tr th {\n",
       "        vertical-align: top;\n",
       "    }\n",
       "\n",
       "    .dataframe thead th {\n",
       "        text-align: right;\n",
       "    }\n",
       "</style>\n",
       "<table border=\"1\" class=\"dataframe\">\n",
       "  <thead>\n",
       "    <tr style=\"text-align: right;\">\n",
       "      <th></th>\n",
       "      <th>id</th>\n",
       "      <th>chat_id</th>\n",
       "      <th>order_in_chat</th>\n",
       "      <th>text</th>\n",
       "      <th>source</th>\n",
       "    </tr>\n",
       "  </thead>\n",
       "  <tbody>\n",
       "    <tr>\n",
       "      <th>154960</th>\n",
       "      <td>154961</td>\n",
       "      <td>5252</td>\n",
       "      <td>2</td>\n",
       "      <td>Cliente: Oi\\n</td>\n",
       "      <td>C</td>\n",
       "    </tr>\n",
       "    <tr>\n",
       "      <th>154961</th>\n",
       "      <td>154962</td>\n",
       "      <td>5252</td>\n",
       "      <td>3</td>\n",
       "      <td>Cliente: Pode me auxiliar?\\n</td>\n",
       "      <td>C</td>\n",
       "    </tr>\n",
       "    <tr>\n",
       "      <th>154962</th>\n",
       "      <td>154963</td>\n",
       "      <td>5252</td>\n",
       "      <td>4</td>\n",
       "      <td>Atendente: Estefânia Boa tarde, você está na f...</td>\n",
       "      <td>A</td>\n",
       "    </tr>\n",
       "    <tr>\n",
       "      <th>154963</th>\n",
       "      <td>154964</td>\n",
       "      <td>5252</td>\n",
       "      <td>5</td>\n",
       "      <td>Atendente: *Luiz Modestino:* \\nBoa tarde Estef...</td>\n",
       "      <td>A</td>\n",
       "    </tr>\n",
       "    <tr>\n",
       "      <th>154964</th>\n",
       "      <td>154965</td>\n",
       "      <td>5252</td>\n",
       "      <td>6</td>\n",
       "      <td>Cliente: Quero cancelar minha assinatura\\n</td>\n",
       "      <td>C</td>\n",
       "    </tr>\n",
       "    <tr>\n",
       "      <th>154965</th>\n",
       "      <td>154966</td>\n",
       "      <td>5252</td>\n",
       "      <td>7</td>\n",
       "      <td>Atendente: *Luiz Modestino:* \\nEstefânia, pode...</td>\n",
       "      <td>A</td>\n",
       "    </tr>\n",
       "    <tr>\n",
       "      <th>154966</th>\n",
       "      <td>154967</td>\n",
       "      <td>5252</td>\n",
       "      <td>8</td>\n",
       "      <td>Cliente: Eu sou a administradora\\n</td>\n",
       "      <td>C</td>\n",
       "    </tr>\n",
       "    <tr>\n",
       "      <th>154967</th>\n",
       "      <td>154968</td>\n",
       "      <td>5252</td>\n",
       "      <td>9</td>\n",
       "      <td>Atendente: *Luiz Modestino:* \\nUm momento.\\n</td>\n",
       "      <td>A</td>\n",
       "    </tr>\n",
       "    <tr>\n",
       "      <th>154968</th>\n",
       "      <td>154969</td>\n",
       "      <td>5252</td>\n",
       "      <td>10</td>\n",
       "      <td>Atendente: *Mark:* \\nOlá Estefânia, Boa tarde,...</td>\n",
       "      <td>A</td>\n",
       "    </tr>\n",
       "    <tr>\n",
       "      <th>154969</th>\n",
       "      <td>154970</td>\n",
       "      <td>5252</td>\n",
       "      <td>11</td>\n",
       "      <td>Cliente: No aguardo\\n</td>\n",
       "      <td>C</td>\n",
       "    </tr>\n",
       "    <tr>\n",
       "      <th>154970</th>\n",
       "      <td>154971</td>\n",
       "      <td>5252</td>\n",
       "      <td>12</td>\n",
       "      <td>Atendente: *Mark:* \\nEstefânia, seu chat não t...</td>\n",
       "      <td>A</td>\n",
       "    </tr>\n",
       "    <tr>\n",
       "      <th>154971</th>\n",
       "      <td>154972</td>\n",
       "      <td>5252</td>\n",
       "      <td>13</td>\n",
       "      <td>Cliente: Eu mesma que informei...\\n</td>\n",
       "      <td>C</td>\n",
       "    </tr>\n",
       "    <tr>\n",
       "      <th>154972</th>\n",
       "      <td>154973</td>\n",
       "      <td>5252</td>\n",
       "      <td>14</td>\n",
       "      <td>Atendente: *Mark:* \\nOK, só outro administrado...</td>\n",
       "      <td>A</td>\n",
       "    </tr>\n",
       "    <tr>\n",
       "      <th>154973</th>\n",
       "      <td>154974</td>\n",
       "      <td>5252</td>\n",
       "      <td>15</td>\n",
       "      <td>Cliente: ok\\n</td>\n",
       "      <td>C</td>\n",
       "    </tr>\n",
       "    <tr>\n",
       "      <th>154974</th>\n",
       "      <td>154975</td>\n",
       "      <td>5252</td>\n",
       "      <td>16</td>\n",
       "      <td>Atendente: *Mark:* \\nBoa tarde.\\n</td>\n",
       "      <td>A</td>\n",
       "    </tr>\n",
       "  </tbody>\n",
       "</table>\n",
       "</div>"
      ],
      "text/plain": [
       "            id  chat_id  order_in_chat  \\\n",
       "154960  154961     5252              2   \n",
       "154961  154962     5252              3   \n",
       "154962  154963     5252              4   \n",
       "154963  154964     5252              5   \n",
       "154964  154965     5252              6   \n",
       "154965  154966     5252              7   \n",
       "154966  154967     5252              8   \n",
       "154967  154968     5252              9   \n",
       "154968  154969     5252             10   \n",
       "154969  154970     5252             11   \n",
       "154970  154971     5252             12   \n",
       "154971  154972     5252             13   \n",
       "154972  154973     5252             14   \n",
       "154973  154974     5252             15   \n",
       "154974  154975     5252             16   \n",
       "\n",
       "                                                     text source  \n",
       "154960                                      Cliente: Oi\\n      C  \n",
       "154961                       Cliente: Pode me auxiliar?\\n      C  \n",
       "154962  Atendente: Estefânia Boa tarde, você está na f...      A  \n",
       "154963  Atendente: *Luiz Modestino:* \\nBoa tarde Estef...      A  \n",
       "154964         Cliente: Quero cancelar minha assinatura\\n      C  \n",
       "154965  Atendente: *Luiz Modestino:* \\nEstefânia, pode...      A  \n",
       "154966                 Cliente: Eu sou a administradora\\n      C  \n",
       "154967       Atendente: *Luiz Modestino:* \\nUm momento.\\n      A  \n",
       "154968  Atendente: *Mark:* \\nOlá Estefânia, Boa tarde,...      A  \n",
       "154969                              Cliente: No aguardo\\n      C  \n",
       "154970  Atendente: *Mark:* \\nEstefânia, seu chat não t...      A  \n",
       "154971                Cliente: Eu mesma que informei...\\n      C  \n",
       "154972  Atendente: *Mark:* \\nOK, só outro administrado...      A  \n",
       "154973                                      Cliente: ok\\n      C  \n",
       "154974                  Atendente: *Mark:* \\nBoa tarde.\\n      A  "
      ]
     },
     "execution_count": 8,
     "metadata": {},
     "output_type": "execute_result"
    }
   ],
   "source": [
    "message_df.tail(15)"
   ]
  },
  {
   "cell_type": "markdown",
   "id": "76839f0c",
   "metadata": {},
   "source": [
    "Info about number of client messages:"
   ]
  },
  {
   "cell_type": "code",
   "execution_count": 9,
   "id": "3e5612f7",
   "metadata": {},
   "outputs": [
    {
     "name": "stdout",
     "output_type": "stream",
     "text": [
      "Number of client messages:\n",
      "72773\n",
      "\n",
      "Percentage of client messages:\n",
      "46.96 %\n"
     ]
    }
   ],
   "source": [
    "print('Number of client messages:')\n",
    "print(f\"{message_df[message_df['source'] == 'C'].shape[0]}\")\n",
    "print('\\nPercentage of client messages:')\n",
    "print(f\"{round(100 * (message_df[message_df['source'] == 'C'].shape[0] / message_df.shape[0]),2)} %\")"
   ]
  },
  {
   "cell_type": "markdown",
   "id": "a95cc305",
   "metadata": {},
   "source": [
    "Create dataframe with client messages only:"
   ]
  },
  {
   "cell_type": "code",
   "execution_count": 10,
   "id": "ed500f2b",
   "metadata": {},
   "outputs": [
    {
     "name": "stdout",
     "output_type": "stream",
     "text": [
      "['C']\n"
     ]
    }
   ],
   "source": [
    "client_messages_df = message_df[message_df.source == 'C']\n",
    "\n",
    "# Confirmation\n",
    "print(client_messages_df.source.unique())"
   ]
  },
  {
   "cell_type": "markdown",
   "id": "538927b4",
   "metadata": {},
   "source": [
    "Remove chats where there are not client messages:"
   ]
  },
  {
   "cell_type": "code",
   "execution_count": 11,
   "id": "094ebbe7",
   "metadata": {},
   "outputs": [
    {
     "data": {
      "text/plain": [
       "0"
      ]
     },
     "execution_count": 11,
     "metadata": {},
     "output_type": "execute_result"
    }
   ],
   "source": [
    "client_chats_df = chat_df[chat_df.num_client_messages > 0]\n",
    "\n",
    "# Confirmation\n",
    "client_chats_df[client_chats_df.num_client_messages <= 0].shape[0]"
   ]
  },
  {
   "cell_type": "markdown",
   "id": "96328d0d",
   "metadata": {},
   "source": [
    "Info on client exclusive dataframes:"
   ]
  },
  {
   "cell_type": "code",
   "execution_count": 12,
   "id": "1bf843ee",
   "metadata": {},
   "outputs": [
    {
     "name": "stdout",
     "output_type": "stream",
     "text": [
      "<class 'pandas.core.frame.DataFrame'>\n",
      "Index: 5154 entries, 0 to 5251\n",
      "Data columns (total 3 columns):\n",
      " #   Column                Non-Null Count  Dtype\n",
      "---  ------                --------------  -----\n",
      " 0   id                    5154 non-null   int64\n",
      " 1   num_client_messages   5154 non-null   int64\n",
      " 2   num_service_messages  5154 non-null   int64\n",
      "dtypes: int64(3)\n",
      "memory usage: 161.1 KB\n",
      "None\n",
      "\n",
      " ---------------------------------------------\n",
      "\n",
      "<class 'pandas.core.frame.DataFrame'>\n",
      "Index: 72773 entries, 1 to 154973\n",
      "Data columns (total 5 columns):\n",
      " #   Column         Non-Null Count  Dtype \n",
      "---  ------         --------------  ----- \n",
      " 0   id             72773 non-null  int64 \n",
      " 1   chat_id        72773 non-null  int64 \n",
      " 2   order_in_chat  72773 non-null  int64 \n",
      " 3   text           72773 non-null  object\n",
      " 4   source         72773 non-null  object\n",
      "dtypes: int64(3), object(2)\n",
      "memory usage: 3.3+ MB\n",
      "None\n"
     ]
    }
   ],
   "source": [
    "print(client_chats_df.info())\n",
    "print('\\n ---------------------------------------------\\n')\n",
    "print(client_messages_df.info())"
   ]
  },
  {
   "cell_type": "markdown",
   "id": "8c46d03a",
   "metadata": {},
   "source": [
    "Check if all chats were added in client dataframes:"
   ]
  },
  {
   "cell_type": "code",
   "execution_count": 13,
   "id": "9b18eeff",
   "metadata": {},
   "outputs": [
    {
     "data": {
      "text/plain": [
       "True"
      ]
     },
     "execution_count": 13,
     "metadata": {},
     "output_type": "execute_result"
    }
   ],
   "source": [
    "np.array_equal(client_chats_df.id.unique(), client_messages_df.chat_id.unique())"
   ]
  },
  {
   "cell_type": "markdown",
   "id": "2070f86a",
   "metadata": {},
   "source": [
    "### Transformation"
   ]
  },
  {
   "cell_type": "markdown",
   "id": "a197891c",
   "metadata": {},
   "source": [
    "Cleaning client messages:"
   ]
  },
  {
   "cell_type": "code",
   "execution_count": 14,
   "id": "bf16d28c",
   "metadata": {
    "scrolled": true
   },
   "outputs": [],
   "source": [
    "def remove_sender(string:str):\n",
    "    word_list = string.split(' ')\n",
    "    word_list.pop(0)\n",
    "    return ' '.join(word_list).strip()\n",
    "\n",
    "cl_messages_series = client_messages_df.text.apply(remove_sender)"
   ]
  },
  {
   "cell_type": "code",
   "execution_count": 15,
   "id": "2cd6764c",
   "metadata": {
    "scrolled": true
   },
   "outputs": [
    {
     "data": {
      "text/html": [
       "<div>\n",
       "<style scoped>\n",
       "    .dataframe tbody tr th:only-of-type {\n",
       "        vertical-align: middle;\n",
       "    }\n",
       "\n",
       "    .dataframe tbody tr th {\n",
       "        vertical-align: top;\n",
       "    }\n",
       "\n",
       "    .dataframe thead th {\n",
       "        text-align: right;\n",
       "    }\n",
       "</style>\n",
       "<table border=\"1\" class=\"dataframe\">\n",
       "  <thead>\n",
       "    <tr style=\"text-align: right;\">\n",
       "      <th></th>\n",
       "      <th>id</th>\n",
       "      <th>chat_id</th>\n",
       "      <th>order_in_chat</th>\n",
       "      <th>text</th>\n",
       "      <th>source</th>\n",
       "    </tr>\n",
       "  </thead>\n",
       "  <tbody>\n",
       "    <tr>\n",
       "      <th>1</th>\n",
       "      <td>2</td>\n",
       "      <td>1</td>\n",
       "      <td>2</td>\n",
       "      <td>Bom dia</td>\n",
       "      <td>C</td>\n",
       "    </tr>\n",
       "    <tr>\n",
       "      <th>2</th>\n",
       "      <td>3</td>\n",
       "      <td>1</td>\n",
       "      <td>3</td>\n",
       "      <td>Poderiam me ajudar?</td>\n",
       "      <td>C</td>\n",
       "    </tr>\n",
       "    <tr>\n",
       "      <th>5</th>\n",
       "      <td>6</td>\n",
       "      <td>1</td>\n",
       "      <td>6</td>\n",
       "      <td>felipe.correia@ddllaw.com.br</td>\n",
       "      <td>C</td>\n",
       "    </tr>\n",
       "    <tr>\n",
       "      <th>6</th>\n",
       "      <td>7</td>\n",
       "      <td>1</td>\n",
       "      <td>7</td>\n",
       "      <td>11 932897038</td>\n",
       "      <td>C</td>\n",
       "    </tr>\n",
       "    <tr>\n",
       "      <th>7</th>\n",
       "      <td>8</td>\n",
       "      <td>1</td>\n",
       "      <td>8</td>\n",
       "      <td>Felipe Liphaus</td>\n",
       "      <td>C</td>\n",
       "    </tr>\n",
       "    <tr>\n",
       "      <th>15</th>\n",
       "      <td>16</td>\n",
       "      <td>2</td>\n",
       "      <td>2</td>\n",
       "      <td>Bom dia</td>\n",
       "      <td>C</td>\n",
       "    </tr>\n",
       "    <tr>\n",
       "      <th>16</th>\n",
       "      <td>17</td>\n",
       "      <td>2</td>\n",
       "      <td>3</td>\n",
       "      <td>poderiam me ajudar ?</td>\n",
       "      <td>C</td>\n",
       "    </tr>\n",
       "    <tr>\n",
       "      <th>19</th>\n",
       "      <td>20</td>\n",
       "      <td>2</td>\n",
       "      <td>6</td>\n",
       "      <td>gostaria de saber se tem como eu remover a res...</td>\n",
       "      <td>C</td>\n",
       "    </tr>\n",
       "    <tr>\n",
       "      <th>20</th>\n",
       "      <td>21</td>\n",
       "      <td>2</td>\n",
       "      <td>7</td>\n",
       "      <td>caso não possa ser removido, tem alguma maneir...</td>\n",
       "      <td>C</td>\n",
       "    </tr>\n",
       "    <tr>\n",
       "      <th>22</th>\n",
       "      <td>23</td>\n",
       "      <td>2</td>\n",
       "      <td>9</td>\n",
       "      <td>isto</td>\n",
       "      <td>C</td>\n",
       "    </tr>\n",
       "  </tbody>\n",
       "</table>\n",
       "</div>"
      ],
      "text/plain": [
       "    id  chat_id  order_in_chat  \\\n",
       "1    2        1              2   \n",
       "2    3        1              3   \n",
       "5    6        1              6   \n",
       "6    7        1              7   \n",
       "7    8        1              8   \n",
       "15  16        2              2   \n",
       "16  17        2              3   \n",
       "19  20        2              6   \n",
       "20  21        2              7   \n",
       "22  23        2              9   \n",
       "\n",
       "                                                 text source  \n",
       "1                                             Bom dia      C  \n",
       "2                                 Poderiam me ajudar?      C  \n",
       "5                        felipe.correia@ddllaw.com.br      C  \n",
       "6                                        11 932897038      C  \n",
       "7                                      Felipe Liphaus      C  \n",
       "15                                            Bom dia      C  \n",
       "16                               poderiam me ajudar ?      C  \n",
       "19  gostaria de saber se tem como eu remover a res...      C  \n",
       "20  caso não possa ser removido, tem alguma maneir...      C  \n",
       "22                                               isto      C  "
      ]
     },
     "execution_count": 15,
     "metadata": {},
     "output_type": "execute_result"
    }
   ],
   "source": [
    "client_messages_df.loc[:,'text'] = cl_messages_series\n",
    "client_messages_df.head(10)"
   ]
  },
  {
   "cell_type": "markdown",
   "id": "66f71e65",
   "metadata": {},
   "source": [
    "Reset client message dataframe index:"
   ]
  },
  {
   "cell_type": "code",
   "execution_count": 16,
   "id": "2c246010",
   "metadata": {},
   "outputs": [
    {
     "data": {
      "text/html": [
       "<div>\n",
       "<style scoped>\n",
       "    .dataframe tbody tr th:only-of-type {\n",
       "        vertical-align: middle;\n",
       "    }\n",
       "\n",
       "    .dataframe tbody tr th {\n",
       "        vertical-align: top;\n",
       "    }\n",
       "\n",
       "    .dataframe thead th {\n",
       "        text-align: right;\n",
       "    }\n",
       "</style>\n",
       "<table border=\"1\" class=\"dataframe\">\n",
       "  <thead>\n",
       "    <tr style=\"text-align: right;\">\n",
       "      <th></th>\n",
       "      <th>id</th>\n",
       "      <th>chat_id</th>\n",
       "      <th>order_in_chat</th>\n",
       "      <th>text</th>\n",
       "      <th>source</th>\n",
       "    </tr>\n",
       "  </thead>\n",
       "  <tbody>\n",
       "    <tr>\n",
       "      <th>0</th>\n",
       "      <td>2</td>\n",
       "      <td>1</td>\n",
       "      <td>2</td>\n",
       "      <td>Bom dia</td>\n",
       "      <td>C</td>\n",
       "    </tr>\n",
       "    <tr>\n",
       "      <th>1</th>\n",
       "      <td>3</td>\n",
       "      <td>1</td>\n",
       "      <td>3</td>\n",
       "      <td>Poderiam me ajudar?</td>\n",
       "      <td>C</td>\n",
       "    </tr>\n",
       "    <tr>\n",
       "      <th>2</th>\n",
       "      <td>6</td>\n",
       "      <td>1</td>\n",
       "      <td>6</td>\n",
       "      <td>felipe.correia@ddllaw.com.br</td>\n",
       "      <td>C</td>\n",
       "    </tr>\n",
       "    <tr>\n",
       "      <th>3</th>\n",
       "      <td>7</td>\n",
       "      <td>1</td>\n",
       "      <td>7</td>\n",
       "      <td>11 932897038</td>\n",
       "      <td>C</td>\n",
       "    </tr>\n",
       "    <tr>\n",
       "      <th>4</th>\n",
       "      <td>8</td>\n",
       "      <td>1</td>\n",
       "      <td>8</td>\n",
       "      <td>Felipe Liphaus</td>\n",
       "      <td>C</td>\n",
       "    </tr>\n",
       "  </tbody>\n",
       "</table>\n",
       "</div>"
      ],
      "text/plain": [
       "   id  chat_id  order_in_chat                          text source\n",
       "0   2        1              2                       Bom dia      C\n",
       "1   3        1              3           Poderiam me ajudar?      C\n",
       "2   6        1              6  felipe.correia@ddllaw.com.br      C\n",
       "3   7        1              7                  11 932897038      C\n",
       "4   8        1              8                Felipe Liphaus      C"
      ]
     },
     "execution_count": 16,
     "metadata": {},
     "output_type": "execute_result"
    }
   ],
   "source": [
    "client_messages_df = client_messages_df.reset_index(drop=True)\n",
    "client_messages_df.head()"
   ]
  },
  {
   "cell_type": "markdown",
   "id": "7895eb08",
   "metadata": {},
   "source": [
    "Create tokenizer function:"
   ]
  },
  {
   "cell_type": "code",
   "execution_count": 17,
   "id": "b74958e5",
   "metadata": {},
   "outputs": [],
   "source": [
    "import re\n",
    "from nltk.tokenize import word_tokenize\n",
    "from nltk.stem import WordNetLemmatizer\n",
    "\n",
    "def tokenize(text:str):\n",
    "    '''\n",
    "    Returns a list with lemmatized tokens from a string.\n",
    "\n",
    "        Parameters:\n",
    "            text (str): A string message to be tokenized and lemmatized\n",
    "\n",
    "        Returns:\n",
    "            clean_tokens (str list): A list of strings containing the lemmatized tokens.\n",
    "    '''\n",
    "    \n",
    "    # removing URLs from messages in order to reduce machine work\n",
    "    url_regex = 'http[s]?://(?:[a-zA-Z]|[0-9]|[$-_@.&+]|[!*\\(\\),]|(?:%[0-9a-fA-F][0-9a-fA-F]))+'\n",
    "    detected_urls = re.findall(url_regex, text)\n",
    "    for url in detected_urls:\n",
    "        text = text.replace(url, \"urlplaceholder\")\n",
    "\n",
    "    # Tokenizing text\n",
    "    tokens = word_tokenize(text)\n",
    "    # Lemmatizing text\n",
    "    lemmatizer = WordNetLemmatizer()    \n",
    "    clean_tokens = []\n",
    "    for tok in tokens:\n",
    "        clean_tok = lemmatizer.lemmatize(lemmatizer.lemmatize(tok).lower().strip(),pos='v')\n",
    "        clean_tokens.append(clean_tok)\n",
    "\n",
    "    return clean_tokens"
   ]
  },
  {
   "cell_type": "code",
   "execution_count": 18,
   "id": "955bac0a",
   "metadata": {},
   "outputs": [
    {
     "data": {
      "text/plain": [
       "72773"
      ]
     },
     "execution_count": 18,
     "metadata": {},
     "output_type": "execute_result"
    }
   ],
   "source": [
    "client_tokens_df = client_messages_df.copy(deep=True)\n",
    "client_tokens_df.text = client_messages_df.text.apply(lambda x: tokenize(x))\n",
    "client_tokens_df.shape[0]"
   ]
  },
  {
   "cell_type": "markdown",
   "id": "b47fb35d",
   "metadata": {},
   "source": [
    "Remove documents (messages) with less than 2 tokens, since using them in training would provide little model improvement:"
   ]
  },
  {
   "cell_type": "code",
   "execution_count": 19,
   "id": "af296b5f",
   "metadata": {},
   "outputs": [
    {
     "data": {
      "text/plain": [
       "68925"
      ]
     },
     "execution_count": 19,
     "metadata": {},
     "output_type": "execute_result"
    }
   ],
   "source": [
    "client_tokens_df = client_tokens_df[client_messages_df.text.apply(lambda x: len(x)>2)]\n",
    "client_tokens_df.shape[0]"
   ]
  },
  {
   "cell_type": "markdown",
   "id": "7221dbfc",
   "metadata": {},
   "source": [
    "Reset client message dataframe index:"
   ]
  },
  {
   "cell_type": "code",
   "execution_count": 20,
   "id": "75519f2c",
   "metadata": {
    "scrolled": true
   },
   "outputs": [
    {
     "data": {
      "text/plain": [
       "RangeIndex(start=0, stop=68925, step=1)"
      ]
     },
     "execution_count": 20,
     "metadata": {},
     "output_type": "execute_result"
    }
   ],
   "source": [
    "client_tokens_df = client_tokens_df.reset_index(drop=True)\n",
    "client_tokens_df.index"
   ]
  },
  {
   "cell_type": "code",
   "execution_count": 21,
   "id": "0f28f906",
   "metadata": {},
   "outputs": [
    {
     "data": {
      "text/html": [
       "<div>\n",
       "<style scoped>\n",
       "    .dataframe tbody tr th:only-of-type {\n",
       "        vertical-align: middle;\n",
       "    }\n",
       "\n",
       "    .dataframe tbody tr th {\n",
       "        vertical-align: top;\n",
       "    }\n",
       "\n",
       "    .dataframe thead th {\n",
       "        text-align: right;\n",
       "    }\n",
       "</style>\n",
       "<table border=\"1\" class=\"dataframe\">\n",
       "  <thead>\n",
       "    <tr style=\"text-align: right;\">\n",
       "      <th></th>\n",
       "      <th>id</th>\n",
       "      <th>chat_id</th>\n",
       "      <th>order_in_chat</th>\n",
       "      <th>text</th>\n",
       "      <th>source</th>\n",
       "    </tr>\n",
       "  </thead>\n",
       "  <tbody>\n",
       "    <tr>\n",
       "      <th>0</th>\n",
       "      <td>2</td>\n",
       "      <td>1</td>\n",
       "      <td>2</td>\n",
       "      <td>[bom, dia]</td>\n",
       "      <td>C</td>\n",
       "    </tr>\n",
       "    <tr>\n",
       "      <th>1</th>\n",
       "      <td>3</td>\n",
       "      <td>1</td>\n",
       "      <td>3</td>\n",
       "      <td>[poderiam, me, ajudar, ?]</td>\n",
       "      <td>C</td>\n",
       "    </tr>\n",
       "    <tr>\n",
       "      <th>2</th>\n",
       "      <td>6</td>\n",
       "      <td>1</td>\n",
       "      <td>6</td>\n",
       "      <td>[felipe.correia, @, ddllaw.com.br]</td>\n",
       "      <td>C</td>\n",
       "    </tr>\n",
       "    <tr>\n",
       "      <th>3</th>\n",
       "      <td>7</td>\n",
       "      <td>1</td>\n",
       "      <td>7</td>\n",
       "      <td>[11, 932897038]</td>\n",
       "      <td>C</td>\n",
       "    </tr>\n",
       "    <tr>\n",
       "      <th>4</th>\n",
       "      <td>8</td>\n",
       "      <td>1</td>\n",
       "      <td>8</td>\n",
       "      <td>[felipe, liphaus]</td>\n",
       "      <td>C</td>\n",
       "    </tr>\n",
       "  </tbody>\n",
       "</table>\n",
       "</div>"
      ],
      "text/plain": [
       "   id  chat_id  order_in_chat                                text source\n",
       "0   2        1              2                          [bom, dia]      C\n",
       "1   3        1              3           [poderiam, me, ajudar, ?]      C\n",
       "2   6        1              6  [felipe.correia, @, ddllaw.com.br]      C\n",
       "3   7        1              7                     [11, 932897038]      C\n",
       "4   8        1              8                   [felipe, liphaus]      C"
      ]
     },
     "execution_count": 21,
     "metadata": {},
     "output_type": "execute_result"
    }
   ],
   "source": [
    "client_tokens_df.head()"
   ]
  },
  {
   "cell_type": "code",
   "execution_count": 22,
   "id": "ec5e37b8",
   "metadata": {
    "scrolled": true
   },
   "outputs": [
    {
     "name": "stdout",
     "output_type": "stream",
     "text": [
      "<class 'pandas.core.frame.DataFrame'>\n",
      "RangeIndex: 68925 entries, 0 to 68924\n",
      "Data columns (total 5 columns):\n",
      " #   Column         Non-Null Count  Dtype \n",
      "---  ------         --------------  ----- \n",
      " 0   id             68925 non-null  int64 \n",
      " 1   chat_id        68925 non-null  int64 \n",
      " 2   order_in_chat  68925 non-null  int64 \n",
      " 3   text           68925 non-null  object\n",
      " 4   source         68925 non-null  object\n",
      "dtypes: int64(3), object(2)\n",
      "memory usage: 2.6+ MB\n"
     ]
    }
   ],
   "source": [
    "client_tokens_df.info()"
   ]
  },
  {
   "cell_type": "markdown",
   "id": "af97b435",
   "metadata": {},
   "source": [
    "## Sentiment Analysis using K-Cluster"
   ]
  },
  {
   "cell_type": "code",
   "execution_count": 23,
   "id": "57f4a06e",
   "metadata": {},
   "outputs": [],
   "source": [
    "file_model = client_tokens_df.copy()\n",
    "file_model = client_tokens_df[client_tokens_df.text.str.len()>1]\n"
   ]
  },
  {
   "cell_type": "code",
   "execution_count": 24,
   "id": "f4c3c908",
   "metadata": {},
   "outputs": [
    {
     "data": {
      "text/plain": [
       "['bom_dia']"
      ]
     },
     "execution_count": 24,
     "metadata": {},
     "output_type": "execute_result"
    }
   ],
   "source": [
    "sent = [row for row in client_tokens_df.text]\n",
    "phrases = Phrases(sent, min_count=1, progress_per=50000)\n",
    "bigram = Phraser(phrases)\n",
    "sentences = bigram[sent]\n",
    "sentences[0]"
   ]
  },
  {
   "cell_type": "code",
   "execution_count": 25,
   "id": "5663238d",
   "metadata": {
    "code_folding": [
     0
    ]
   },
   "outputs": [
    {
     "name": "stdout",
     "output_type": "stream",
     "text": [
      "Time to build vocab: 0.01 mins\n"
     ]
    }
   ],
   "source": [
    "w2v_model = Word2Vec(min_count=3,\n",
    "                     window=4,\n",
    "                     vector_size=300,\n",
    "                     sample=1e-5, \n",
    "                     alpha=0.03, \n",
    "                     min_alpha=0.0007, \n",
    "                     negative=20,\n",
    "                     workers=multiprocessing.cpu_count()-1)\n",
    "\n",
    "start = time()\n",
    "\n",
    "w2v_model.build_vocab(sentences, progress_per=50000)\n",
    "\n",
    "print('Time to build vocab: {} mins'.format(round((time() - start) / 60, 2)))"
   ]
  },
  {
   "cell_type": "code",
   "execution_count": 26,
   "id": "c03b7274",
   "metadata": {},
   "outputs": [
    {
     "name": "stdout",
     "output_type": "stream",
     "text": [
      "Time to train the model: 0.3 mins\n"
     ]
    },
    {
     "name": "stderr",
     "output_type": "stream",
     "text": [
      "C:\\Users\\higor\\AppData\\Local\\Temp\\ipykernel_23868\\397523926.py:7: DeprecationWarning: Call to deprecated `init_sims` (Gensim 4.0.0 implemented internal optimizations that make calls to init_sims() unnecessary. init_sims() is now obsoleted and will be completely removed in future versions. See https://github.com/RaRe-Technologies/gensim/wiki/Migrating-from-Gensim-3.x-to-4).\n",
      "  w2v_model.init_sims(replace=True)\n"
     ]
    }
   ],
   "source": [
    "start = time()\n",
    "\n",
    "w2v_model.train(sentences, total_examples=w2v_model.corpus_count, epochs=30, report_delay=1)\n",
    "\n",
    "print('Time to train the model: {} mins'.format(round((time() - start) / 60, 2)))\n",
    "\n",
    "w2v_model.init_sims(replace=True)"
   ]
  },
  {
   "cell_type": "code",
   "execution_count": 27,
   "id": "f02db303",
   "metadata": {},
   "outputs": [],
   "source": [
    "w2v_model.save(\"word2vec.model\")"
   ]
  },
  {
   "cell_type": "code",
   "execution_count": 28,
   "id": "e1a41ccd",
   "metadata": {},
   "outputs": [],
   "source": [
    "file_export = file_model.copy()\n",
    "file_export['old_text'] = file_export.text\n",
    "file_export.old_text = file_export.old_text.str.join(' ')\n",
    "file_export.text = file_export.text.apply(lambda x: ' '.join(bigram[x]))"
   ]
  },
  {
   "cell_type": "code",
   "execution_count": 29,
   "id": "0b0e272e",
   "metadata": {
    "scrolled": false
   },
   "outputs": [
    {
     "data": {
      "text/html": [
       "<div>\n",
       "<style scoped>\n",
       "    .dataframe tbody tr th:only-of-type {\n",
       "        vertical-align: middle;\n",
       "    }\n",
       "\n",
       "    .dataframe tbody tr th {\n",
       "        vertical-align: top;\n",
       "    }\n",
       "\n",
       "    .dataframe thead th {\n",
       "        text-align: right;\n",
       "    }\n",
       "</style>\n",
       "<table border=\"1\" class=\"dataframe\">\n",
       "  <thead>\n",
       "    <tr style=\"text-align: right;\">\n",
       "      <th></th>\n",
       "      <th>id</th>\n",
       "      <th>chat_id</th>\n",
       "      <th>order_in_chat</th>\n",
       "      <th>text</th>\n",
       "      <th>old_text</th>\n",
       "    </tr>\n",
       "  </thead>\n",
       "  <tbody>\n",
       "    <tr>\n",
       "      <th>0</th>\n",
       "      <td>2</td>\n",
       "      <td>1</td>\n",
       "      <td>2</td>\n",
       "      <td>bom_dia</td>\n",
       "      <td>bom dia</td>\n",
       "    </tr>\n",
       "    <tr>\n",
       "      <th>1</th>\n",
       "      <td>3</td>\n",
       "      <td>1</td>\n",
       "      <td>3</td>\n",
       "      <td>poderiam_me ajudar ?</td>\n",
       "      <td>poderiam me ajudar ?</td>\n",
       "    </tr>\n",
       "    <tr>\n",
       "      <th>2</th>\n",
       "      <td>6</td>\n",
       "      <td>1</td>\n",
       "      <td>6</td>\n",
       "      <td>felipe.correia @ ddllaw.com.br</td>\n",
       "      <td>felipe.correia @ ddllaw.com.br</td>\n",
       "    </tr>\n",
       "    <tr>\n",
       "      <th>3</th>\n",
       "      <td>7</td>\n",
       "      <td>1</td>\n",
       "      <td>7</td>\n",
       "      <td>11 932897038</td>\n",
       "      <td>11 932897038</td>\n",
       "    </tr>\n",
       "    <tr>\n",
       "      <th>4</th>\n",
       "      <td>8</td>\n",
       "      <td>1</td>\n",
       "      <td>8</td>\n",
       "      <td>felipe liphaus</td>\n",
       "      <td>felipe liphaus</td>\n",
       "    </tr>\n",
       "    <tr>\n",
       "      <th>...</th>\n",
       "      <td>...</td>\n",
       "      <td>...</td>\n",
       "      <td>...</td>\n",
       "      <td>...</td>\n",
       "      <td>...</td>\n",
       "    </tr>\n",
       "    <tr>\n",
       "      <th>68920</th>\n",
       "      <td>154962</td>\n",
       "      <td>5252</td>\n",
       "      <td>3</td>\n",
       "      <td>pode me_auxiliar ?</td>\n",
       "      <td>pode me auxiliar ?</td>\n",
       "    </tr>\n",
       "    <tr>\n",
       "      <th>68921</th>\n",
       "      <td>154965</td>\n",
       "      <td>5252</td>\n",
       "      <td>6</td>\n",
       "      <td>quero_cancelar minha_assinatura</td>\n",
       "      <td>quero cancelar minha assinatura</td>\n",
       "    </tr>\n",
       "    <tr>\n",
       "      <th>68922</th>\n",
       "      <td>154967</td>\n",
       "      <td>5252</td>\n",
       "      <td>8</td>\n",
       "      <td>eu sou a administradora</td>\n",
       "      <td>eu sou a administradora</td>\n",
       "    </tr>\n",
       "    <tr>\n",
       "      <th>68923</th>\n",
       "      <td>154970</td>\n",
       "      <td>5252</td>\n",
       "      <td>11</td>\n",
       "      <td>no_aguardo</td>\n",
       "      <td>no aguardo</td>\n",
       "    </tr>\n",
       "    <tr>\n",
       "      <th>68924</th>\n",
       "      <td>154972</td>\n",
       "      <td>5252</td>\n",
       "      <td>13</td>\n",
       "      <td>eu mesma que informei ...</td>\n",
       "      <td>eu mesma que informei ...</td>\n",
       "    </tr>\n",
       "  </tbody>\n",
       "</table>\n",
       "<p>60517 rows × 5 columns</p>\n",
       "</div>"
      ],
      "text/plain": [
       "           id  chat_id  order_in_chat                             text  \\\n",
       "0           2        1              2                          bom_dia   \n",
       "1           3        1              3             poderiam_me ajudar ?   \n",
       "2           6        1              6   felipe.correia @ ddllaw.com.br   \n",
       "3           7        1              7                     11 932897038   \n",
       "4           8        1              8                   felipe liphaus   \n",
       "...       ...      ...            ...                              ...   \n",
       "68920  154962     5252              3               pode me_auxiliar ?   \n",
       "68921  154965     5252              6  quero_cancelar minha_assinatura   \n",
       "68922  154967     5252              8          eu sou a administradora   \n",
       "68923  154970     5252             11                       no_aguardo   \n",
       "68924  154972     5252             13        eu mesma que informei ...   \n",
       "\n",
       "                              old_text  \n",
       "0                              bom dia  \n",
       "1                 poderiam me ajudar ?  \n",
       "2       felipe.correia @ ddllaw.com.br  \n",
       "3                         11 932897038  \n",
       "4                       felipe liphaus  \n",
       "...                                ...  \n",
       "68920               pode me auxiliar ?  \n",
       "68921  quero cancelar minha assinatura  \n",
       "68922          eu sou a administradora  \n",
       "68923                       no aguardo  \n",
       "68924        eu mesma que informei ...  \n",
       "\n",
       "[60517 rows x 5 columns]"
      ]
     },
     "execution_count": 29,
     "metadata": {},
     "output_type": "execute_result"
    }
   ],
   "source": [
    "file_export.drop(['source'],axis=1,inplace=True)\n",
    "file_export"
   ]
  },
  {
   "cell_type": "markdown",
   "id": "a7ce9010",
   "metadata": {},
   "source": [
    "## Sentiment Analysis using BERT"
   ]
  },
  {
   "cell_type": "markdown",
   "id": "585b6a14",
   "metadata": {},
   "source": [
    "### Preprocessing"
   ]
  },
  {
   "cell_type": "markdown",
   "id": "d3f99857",
   "metadata": {},
   "source": [
    "Removing messages with two or less words:"
   ]
  },
  {
   "cell_type": "code",
   "execution_count": 30,
   "id": "b79c3d1a",
   "metadata": {},
   "outputs": [
    {
     "name": "stderr",
     "output_type": "stream",
     "text": [
      "C:\\Users\\higor\\AppData\\Local\\Temp\\ipykernel_23868\\2967878893.py:2: SettingWithCopyWarning: \n",
      "A value is trying to be set on a copy of a slice from a DataFrame\n",
      "\n",
      "See the caveats in the documentation: https://pandas.pydata.org/pandas-docs/stable/user_guide/indexing.html#returning-a-view-versus-a-copy\n",
      "  bert_cl_messages_df.drop(['id','order_in_chat','source'],axis=1,inplace=True)\n"
     ]
    }
   ],
   "source": [
    "bert_cl_messages_df = client_messages_df[client_messages_df.text.apply(lambda x: len(x.split()) > 2)]\n",
    "bert_cl_messages_df.drop(['id','order_in_chat','source'],axis=1,inplace=True)"
   ]
  },
  {
   "cell_type": "code",
   "execution_count": 31,
   "id": "a3569574",
   "metadata": {
    "scrolled": true
   },
   "outputs": [
    {
     "data": {
      "text/html": [
       "<div>\n",
       "<style scoped>\n",
       "    .dataframe tbody tr th:only-of-type {\n",
       "        vertical-align: middle;\n",
       "    }\n",
       "\n",
       "    .dataframe tbody tr th {\n",
       "        vertical-align: top;\n",
       "    }\n",
       "\n",
       "    .dataframe thead th {\n",
       "        text-align: right;\n",
       "    }\n",
       "</style>\n",
       "<table border=\"1\" class=\"dataframe\">\n",
       "  <thead>\n",
       "    <tr style=\"text-align: right;\">\n",
       "      <th></th>\n",
       "      <th>chat_id</th>\n",
       "      <th>text</th>\n",
       "    </tr>\n",
       "  </thead>\n",
       "  <tbody>\n",
       "    <tr>\n",
       "      <th>0</th>\n",
       "      <td>1</td>\n",
       "      <td>Poderiam me ajudar?</td>\n",
       "    </tr>\n",
       "    <tr>\n",
       "      <th>1</th>\n",
       "      <td>2</td>\n",
       "      <td>poderiam me ajudar ?</td>\n",
       "    </tr>\n",
       "    <tr>\n",
       "      <th>2</th>\n",
       "      <td>2</td>\n",
       "      <td>gostaria de saber se tem como eu remover a res...</td>\n",
       "    </tr>\n",
       "    <tr>\n",
       "      <th>3</th>\n",
       "      <td>2</td>\n",
       "      <td>caso não possa ser removido, tem alguma maneir...</td>\n",
       "    </tr>\n",
       "    <tr>\n",
       "      <th>4</th>\n",
       "      <td>2</td>\n",
       "      <td>quer dizer, me refiro as mensagens do chatbot</td>\n",
       "    </tr>\n",
       "  </tbody>\n",
       "</table>\n",
       "</div>"
      ],
      "text/plain": [
       "   chat_id                                               text\n",
       "0        1                                Poderiam me ajudar?\n",
       "1        2                               poderiam me ajudar ?\n",
       "2        2  gostaria de saber se tem como eu remover a res...\n",
       "3        2  caso não possa ser removido, tem alguma maneir...\n",
       "4        2      quer dizer, me refiro as mensagens do chatbot"
      ]
     },
     "execution_count": 31,
     "metadata": {},
     "output_type": "execute_result"
    }
   ],
   "source": [
    "bert_cl_messages_df.reset_index(drop=True,inplace=True)\n",
    "bert_cl_messages_df.head()"
   ]
  },
  {
   "cell_type": "code",
   "execution_count": 39,
   "id": "1905176a",
   "metadata": {},
   "outputs": [
    {
     "data": {
      "text/html": [
       "<div>\n",
       "<style scoped>\n",
       "    .dataframe tbody tr th:only-of-type {\n",
       "        vertical-align: middle;\n",
       "    }\n",
       "\n",
       "    .dataframe tbody tr th {\n",
       "        vertical-align: top;\n",
       "    }\n",
       "\n",
       "    .dataframe thead th {\n",
       "        text-align: right;\n",
       "    }\n",
       "</style>\n",
       "<table border=\"1\" class=\"dataframe\">\n",
       "  <thead>\n",
       "    <tr style=\"text-align: right;\">\n",
       "      <th></th>\n",
       "      <th>chat_id</th>\n",
       "      <th>text</th>\n",
       "    </tr>\n",
       "  </thead>\n",
       "  <tbody>\n",
       "    <tr>\n",
       "      <th>94</th>\n",
       "      <td>16</td>\n",
       "      <td>Tivemos uma implantacao muito conturbada e nos...</td>\n",
       "    </tr>\n",
       "    <tr>\n",
       "      <th>285</th>\n",
       "      <td>43</td>\n",
       "      <td>Beneficiário:\\tIUGU SERVICOS NA INTERNET S.A\\n...</td>\n",
       "    </tr>\n",
       "    <tr>\n",
       "      <th>286</th>\n",
       "      <td>43</td>\n",
       "      <td>Beneficiário:\\tIUGU SERVICOS NA INTERNET S.A\\n...</td>\n",
       "    </tr>\n",
       "    <tr>\n",
       "      <th>291</th>\n",
       "      <td>43</td>\n",
       "      <td>Recebi 2 DDA de boletos para pagamento que nao...</td>\n",
       "    </tr>\n",
       "    <tr>\n",
       "      <th>307</th>\n",
       "      <td>44</td>\n",
       "      <td>Beneficiário:\\tIUGU SERVICOS NA INTERNET S.A\\n...</td>\n",
       "    </tr>\n",
       "    <tr>\n",
       "      <th>...</th>\n",
       "      <td>...</td>\n",
       "      <td>...</td>\n",
       "    </tr>\n",
       "    <tr>\n",
       "      <th>45170</th>\n",
       "      <td>5047</td>\n",
       "      <td>*Resumo da Proposta*: CF7-0004024\\n*Nome:* Die...</td>\n",
       "    </tr>\n",
       "    <tr>\n",
       "      <th>45181</th>\n",
       "      <td>5047</td>\n",
       "      <td>*Resumo da Proposta*: CF7-0004024\\n*Nome:* Die...</td>\n",
       "    </tr>\n",
       "    <tr>\n",
       "      <th>45236</th>\n",
       "      <td>5049</td>\n",
       "      <td>Modelo do chatbot a ser enviado:\\nMensagem Ini...</td>\n",
       "    </tr>\n",
       "    <tr>\n",
       "      <th>46543</th>\n",
       "      <td>5190</td>\n",
       "      <td>Conversamos sobre a unificação das contas... p...</td>\n",
       "    </tr>\n",
       "    <tr>\n",
       "      <th>47084</th>\n",
       "      <td>5226</td>\n",
       "      <td>Por favor, estamos tendo algum tipo de instabi...</td>\n",
       "    </tr>\n",
       "  </tbody>\n",
       "</table>\n",
       "<p>109 rows × 2 columns</p>\n",
       "</div>"
      ],
      "text/plain": [
       "       chat_id                                               text\n",
       "94          16  Tivemos uma implantacao muito conturbada e nos...\n",
       "285         43  Beneficiário:\\tIUGU SERVICOS NA INTERNET S.A\\n...\n",
       "286         43  Beneficiário:\\tIUGU SERVICOS NA INTERNET S.A\\n...\n",
       "291         43  Recebi 2 DDA de boletos para pagamento que nao...\n",
       "307         44  Beneficiário:\\tIUGU SERVICOS NA INTERNET S.A\\n...\n",
       "...        ...                                                ...\n",
       "45170     5047  *Resumo da Proposta*: CF7-0004024\\n*Nome:* Die...\n",
       "45181     5047  *Resumo da Proposta*: CF7-0004024\\n*Nome:* Die...\n",
       "45236     5049  Modelo do chatbot a ser enviado:\\nMensagem Ini...\n",
       "46543     5190  Conversamos sobre a unificação das contas... p...\n",
       "47084     5226  Por favor, estamos tendo algum tipo de instabi...\n",
       "\n",
       "[109 rows x 2 columns]"
      ]
     },
     "execution_count": 39,
     "metadata": {},
     "output_type": "execute_result"
    }
   ],
   "source": [
    "bert_cl_messages_df[bert_cl_messages_df.text.apply(lambda x: len(x)> 512)]"
   ]
  },
  {
   "cell_type": "markdown",
   "id": "d6024132",
   "metadata": {},
   "source": [
    "Since BERT models only support tensors with magnitude up to 512 (number of tokens), all messages with length greater than 512 will be broken at every period (.) and a new message will be created with the broken messages."
   ]
  },
  {
   "cell_type": "code",
   "execution_count": 33,
   "id": "1e68dca8",
   "metadata": {},
   "outputs": [],
   "source": [
    "def ponctuation_break(df, mark):\n",
    "    new_text = {'chat_id':[],'text':[]}\n",
    "    for index, row in df.iterrows():\n",
    "        if len(row['text']) > 512:\n",
    "            pieces = row['text'].split(mark)\n",
    "\n",
    "            for piece in pieces:\n",
    "                new_text['text'].append(piece)\n",
    "                new_text['chat_id'].append(row['chat_id'])\n",
    "\n",
    "        else:\n",
    "            new_text['text'].append(row['text'])\n",
    "            new_text['chat_id'].append(row['chat_id'])\n",
    "\n",
    "    new_df = pd.DataFrame(data=new_text)\n",
    "    return new_df\n"
   ]
  },
  {
   "cell_type": "code",
   "execution_count": 34,
   "id": "346b0f7f",
   "metadata": {
    "scrolled": true
   },
   "outputs": [
    {
     "data": {
      "text/plain": [
       "(24, 2)"
      ]
     },
     "execution_count": 34,
     "metadata": {},
     "output_type": "execute_result"
    }
   ],
   "source": [
    "# Breakdown of long messages\n",
    "bert_period_break_df = ponctuation_break(bert_cl_messages_df,'.')\n",
    "\n",
    "# Text Lenght Verification:\n",
    "long_message_df = bert_period_break_df[bert_period_break_df.text.apply(lambda x: len(x)> 512)]\n",
    "long_message_df.shape"
   ]
  },
  {
   "cell_type": "markdown",
   "id": "2a710953",
   "metadata": {},
   "source": [
    "Since there are still 24 long messages in the dataset, some investigation is needed:"
   ]
  },
  {
   "cell_type": "code",
   "execution_count": 35,
   "id": "b9ce2348",
   "metadata": {},
   "outputs": [
    {
     "name": "stdout",
     "output_type": "stream",
     "text": [
      "--------------------\n",
      "980/0008-11\n",
      "Dados do pagamento:\n",
      "Código de barras:\t00190-00009-03075-800007-30420-017177-5-83540000084320\n",
      "Instituição Emissora:\t001 - BANCO DO BRASIL SA\n",
      "Dados do boleto:\n",
      "Espécie do documento:\tDS DUPLICATA DE SERVICO\n",
      "Número do documento:\t30420017\n",
      "Nosso número:\t00030758000030420017\n",
      "Data do documento:\t13/08/2020\n",
      "Data de vencimento:\t21/08/2020\n",
      "Data limite para pagamento:\taté 05/10/2020\n",
      "Aceite:\tNão\n",
      "Valor do documento:\tR$ 843,20\n",
      "Descontos:\tR$ 0,00\n",
      "Juros/Mora:\tR$ 0,28 (dias corridos)  após 22/08/2020\n",
      "Multa:\tR$ 25,29 após  22/08/2020\n",
      "Total de encargos:\tR$ 0,00\n",
      "Valor a pagar:\tR$ 843,20\n",
      "--------------------\n",
      "--------------------\n",
      "\n",
      "Digite o número da opção desejada para que possa ser atendido (a):\n",
      "*1 -* Quero saber sobre leilões disponíveis 💬\n",
      "*2 -* Como localizo um lote no site? 🔍\n",
      "*3 -* Informações sobre visitação de lotes 🗓️ \n",
      "*4 -* Preciso de ajuda com meu cadastro 💻\n",
      "*5 -* Meus documentos foram reprovados ❌\n",
      "*6 -* Não consigo dar lances / cadastro bloqueado 🚫\n",
      "*7 -* Pagamento / nota de venda 💰📃\n",
      "*8 -* Liberação de lotes ✅\n",
      "*9 -* Documentos de lotes / despachante 📂\n",
      "*10 -* Dúvidas sobre baixas / lotes sucatas ❓\n",
      "*11 -* Recebi uma notificação de que meu veículo vai a leilão 📄\n",
      "*12 -* Outros assuntos 💬\n",
      "*13 -* Elogio, sugestão ou reclamação 📣\n",
      "--------------------\n",
      "--------------------\n",
      "\n",
      "Digite o número da opção desejada para que possa ser atendido (a):\n",
      "*1 -* Quero saber sobre leilões disponíveis 💬\n",
      "*2 -* Como localizo um lote no site? 🔍\n",
      "*3 -* Informações sobre visitação de lotes 🗓️ \n",
      "*4 -* Preciso de ajuda com meu cadastro 💻\n",
      "*5 -* Meus documentos foram reprovados ❌\n",
      "*6 -* Não consigo dar lances / cadastro bloqueado 🚫\n",
      "*7 -* Pagamento / nota de venda 💰📃\n",
      "*8 -* Liberação de lotes ✅\n",
      "*9 -* Documentos de lotes / despachante 📂\n",
      "*10 -* Dúvidas sobre baixas / lotes sucatas ❓\n",
      "*11 -* Recebi uma notificação de que meu veículo vai a leilão 📄\n",
      "*12 -* Outros assuntos 💬\n",
      "*13 -* Elogio, sugestão ou reclamação 📣\n",
      "--------------------\n",
      "--------------------\n",
      "Cadastrando o número : 5521996441345\n",
      "{'chat_add_id': '601c36026b9c4150109ab476', 'chat_add_status': 'pending', 'chat_add_status_description': '', 'code': 200, 'result': 'success'}\n",
      "{'chat_add_id': '601c36026b9c4150109ab476', 'chat_add_status': 'pending', 'code': 201, 'description': 'Chat cadastrado para inclusão com sucesso!', 'result': 'success'}\n",
      "    Modo:Enviando\n",
      "    Numero:5521996441345\n",
      "    Enviando:Teste\n",
      "{'code': 201, 'description': 'Mensagem cadastrada com sucesso!', 'message_id': '601c36041bde497119e62db5', 'message_status': 'pending', 'result': 'success'}\n",
      "Com um cliente que já entrou em contato comigo\n",
      "--------------------\n",
      "--------------------\n",
      "Regras de redirecionamento \n",
      "1- São Paulo (Usuario Vinicius quantidade acima de 301, usuario Rosana: vini e alex enviarão os clientes da Rosana caso recebam-  clientes que atende, usuario alex/ quAntidade abaixo de 300) \n",
      "2- Rio de Janeiro (Debora ate 999 / Alex acima de 1000 )\n",
      "3- Minas Gerais  (vinicius encaminha p davanas)\n",
      "4 - Porto Alegre e RS ( usuario Vinicius)\n",
      "5- Parana (debora)\n",
      "6- Recife e Pernambuco e Santa Catarina(usuario Margarete)\n",
      "7- Brasília (usuario alex)\n",
      "8- Demais Regiões ( usuario Debora abaixo de 1000 e  usuario Alex acima de 1000)\n",
      "--------------------\n",
      "--------------------\n",
      "Quando o cliente iniciar o chat pela primeira vez quero que apare a seguinte mensagem:\n",
      "Você já é nosso cliente?\n",
      "Responda com *Sim* ou *Não*\n",
      "Se o Cliente Responder *Sim* Então executa o diálogo: Já sou Cliente Parte 1\n",
      "Neste diálogo está programado para serem executados 2 respostas e 1 POST URL\n",
      "Durante o POST URL irei fazer buscas no meu Banco de Dados e caso encontre ele vai executar o diálogo: Já sou cliente Parte 3 (Não Encontrou Cadastro pelo Telefone) [API] caso não encontre o diálogo a ser executado é: Já sou cliente Parte 3 (Não Encontrou Cadastro pelo Telefone) [API]\n",
      "Se o cliente responder *Não* que não é nosso cliente então executa o diálogo:  \n",
      "--------------------\n",
      "--------------------\n",
      "Olá! Obrigado por entrar em contato! Este é o canal de WhatsApp da Faculdade Anhanguera: polos de *São Gonçalo/RJ* e *Macaé/RJ*!\n",
      "Estamos muito felizes em poder lhe atender! Neste canal, você poderá falar com a nossa equipe e ainda receber nossos comunicados acadêmicos, novidades e promoções! É muito importante que você *salve este número* em seus contatos do celular para ficar por dentro dos principais assuntos! \n",
      "Para darmos início ao seu atendimento, informe com qual polo você gostaria de falar, digitando apenas o número: \n",
      "*[ 1 ]* - Polo São Gonçalo \n",
      "*[ 2 ]* - Polo Macaé\n",
      "Digite *encerrar* para finalizar seu atendimento\n",
      "--------------------\n",
      "--------------------\n",
      "\n",
      "*1* - Suporte \n",
      "\tInforme para qual sistema deseja suporte\n",
      "\t*1* - Auditor -> delegar departamento *Auditor*\n",
      "\t*2* - Cidade Digital -> delegar departamento *CD*\n",
      "\t*3* - Consys -> delegar departamento *Consys*\n",
      "\t*4* - Fómula Certa -> delegar departamento *FC*\n",
      "\t*5* - SIM -> delegar departamento *SIM*\n",
      "\t*6* - Outros -> delegar departamento *Suporte*\n",
      "*2* - Comercial/Financeiro  \n",
      "Agradecemos seu contato, em breve um dos nossos atendentes falará com você, mas você pode mandar uma mensagem do que se trata para agilizarmos seu atendimento\n",
      "--------------------\n",
      "--------------------\n",
      "Preciso que todo o cliente que escreva esta mensagem \n",
      "Estou na pagina de *Duvidas* *Gerais* e ainda nao encontrei o que precisava, pode me ajudar?\n",
      "Preciso que todo o cliente que escreva esta mensagem \n",
      "Estou na pagina de *Aquaticas* e ainda nao encontrei o que precisava, pode me ajudar?\n",
      "Preciso que todo o cliente que escreva esta mensagem \n",
      "Estou na pagina de *Coletivas* e ainda nao encontrei o que precisava, pode me ajudar?\n",
      "Vá para  funil planos de academia \n",
      "Etapa DUVÍDAS PG INFORMAÇÕES 360\n",
      "TAG informações 360º\n",
      "--------------------\n",
      "--------------------\n",
      "Correções a serem feitas Na URA inicio do Pratique Running \n",
      "O erros que estão acontecendo \n",
      "Quando escolha a opção 1 apos cair o diagolo, quando coloca a opção de ir para o MENU *não* volta para menu \n",
      "Quando escolha a opção 2 apos cair o diagolo, quando coloca a opção de ir para o MENU  *não* volta para menu \n",
      "Quando escolha a opção 3 apos cair o diagolo, quando coloca a opção de ir para o MENU  *não* volta para menu,  \n",
      " e se colocar qualquer informação ex( oi, cancelar menu, qualquer palavra )\n",
      "esta caindo a mensagem aguarde um instante que ja iremos lhe atender  se colocar encerrar cai a mensagem \n",
      "Quando escolha a opção 3  não esta encerrando\n",
      "Ao cair o bot inicial digitei academia e cai o dialago da opção  2\n",
      "--------------------\n",
      "--------------------\n",
      "Correções a serem feitas Na URA inicio do Pratique Running \n",
      "O erros que estão acontecendo \n",
      "Quando escolha a opção 1 apos cair o diagolo, quando coloca a opção de ir para o MENU *não* volta para menu \n",
      "Quando escolha a opção 2 apos cair o diagolo, quando coloca a opção de ir para o MENU  *não* volta para menu \n",
      "Quando escolha a opção 3 apos cair o diagolo, quando coloca a opção de ir para o MENU  *não* volta para menu,  \n",
      " e se colocar qualquer informação ex( oi, cancelar menu, qualquer palavra )\n",
      "esta caindo a mensagem aguarde um instante que ja iremos lhe atender  se colocar encerrar cai a mensagem \n",
      "Quando escolha a opção 3  não esta encerrando\n",
      "Ao cair o bot inicial digitei academia e cai o dialago da opção  2\n",
      "--------------------\n",
      "--------------------\n",
      "Dados enviados:\n",
      "{account_id=5f0895506a98997ec591051c, chat_number=5531986058411, name=FERNANDA DE SOUZA ELIAS, action=chat_add, dialog_id=602d80116fefac424ad60d3b, text=Boa Tarde *FERNANDA*, seu pagamento foi realizado com sucesso 🤝, key=RD7EQ24OHV4IB7AADK52UR8RL4XVBU6JO7YK623GNDS1TK2XI6LQXW1SEJT9TN88, phone_id=5fda32f470baec9dfe6ca328}\n",
      "Retorno ZapGuru:\n",
      "{\n",
      "\t\"result\": \"success\",\n",
      "\t\"chat_add_id\": \"6033cf8ef83c86dae4e2aeb5\",\n",
      "\t\"code\": 201,\n",
      "\t\"description\": \"Chat cadastrado para inclusão com sucesso!\",\n",
      "\t\"chat_add_status\": \"pending\"\n",
      "}\n",
      "--------------------\n",
      "--------------------\n",
      "  \n",
      "1 - Lazer\n",
      "Mora em casa ou apto?\n",
      "Tem garagem na residência?\n",
      "Cep Residencial?\n",
      "Portão automático?\n",
      "Usa para ir à escola e faculdade?\n",
      "Tem estacionamento fechado?\n",
      "2- Uso diário\n",
      "Mora em casa ou apto?\n",
      "Tem garagem na residência?\n",
      "Cep Residêncial?\n",
      "Portão automático?\n",
      "Garagem fechada no trabalho?\n",
      "Usa para ir à escola e faculdade?\n",
      "Tem estacionamento fechado?\n",
      "3 -  exercício do trabalho\n",
      "Mora em casa ou apto?\n",
      "Tem garagem na residência?\n",
      "Cep Residencial?\n",
      "Portão automático?\n",
      "Usa para ir à escola e faculdade?\n",
      "Tem estacionamento fechado?\n",
      "Visita cliente 2 ou mais vezes na semana?\n",
      "Passo 5:\n",
      "Dados do Seguro:\n",
      "Quando vence:\n",
      "Seguradora Atual:\n",
      "Classe de Bônus:\n",
      "Teve Sinistro no último ano:\n",
      "Passo 6:\n",
      "Para maiores possibilidades de descontos,  você pode nos encaminhar uma cópia da sua apolice para análise e sugestões\n",
      "--------------------\n",
      "--------------------\n",
      "  \n",
      "1 - Lazer\n",
      "Mora em casa ou apto?\n",
      "Tem garagem na residência?\n",
      "Cep Residencial?\n",
      "Portão automático?\n",
      "Usa para ir à escola e faculdade?\n",
      "Tem estacionamento fechado?\n",
      "2- Uso diário\n",
      "Mora em casa ou apto?\n",
      "Tem garagem na residência?\n",
      "Cep Residêncial?\n",
      "Portão automático?\n",
      "Garagem fechada no trabalho?\n",
      "Usa para ir à escola e faculdade?\n",
      "Tem estacionamento fechado?\n",
      "3 -  exercício do trabalho\n",
      "Mora em casa ou apto?\n",
      "Tem garagem na residência?\n",
      "Cep Residencial?\n",
      "Portão automático?\n",
      "Usa para ir à escola e faculdade?\n",
      "Tem estacionamento fechado?\n",
      "Visita cliente 2 ou mais vezes na semana?\n",
      "Passo 5:\n",
      "Dados do Seguro:\n",
      "Quando vence:\n",
      "Seguradora Atual:\n",
      "Classe de Bônus:\n",
      "Teve Sinistro no último ano:\n",
      "Passo 6:\n",
      "Para maiores possibilidades de descontos,  você pode nos encaminhar uma cópia da sua apolice para análise e sugestões\n",
      "--------------------\n",
      "--------------------\n",
      "Boa noite, fizemos o pagamento no dia 13/07, mais não conseguimos ainda usar o sistema, infelizmente é muito difícil fazer as vendas sem enviar vídeos, fechamos o sistema para agilizar o atendimento e não atrasar, já foi emitido o boleto na data do dia 02/08, fizemos o pagamento no dia 13/07, nao fechou nem um mês e já estão cobrando o valor novamente! preciso, que suspenda o pagamento até entendermos se vai ser viável o uso do sistema ou não, pois está questão de não envie vídeo está muito complexa para uma atendimento de venda de produtos de decoracao!!\n",
      "--------------------\n",
      "--------------------\n",
      "com a contratação da locação da hospedagem do meu numero de whatsApp surgiu algumas dúvidas de como proceder com o aparelho atual e seu chip:\n",
      "1-) Preciso manter o chip num aparelho? (visto que não tenho mais interesse em usa-lo fora da plataforma)\n",
      "2-) O que acontece se utilizar o whatsApp no aparelho? prejudica o funcionamento na plataforma?\n",
      "3-) O que acontece se ativar este numero no whatsApp Web em algum desktop? prejudica o funcionamento na plataforma?\n",
      "4-) Posso substituir o aparelho atual \"iphone\" para outro android e continuar usando este chip para receber ligações?\n",
      "5-) Preventivamente, posso refazer o processo de backup do whatsAPP no iphone novamente? (acho q o backup realizado antes da locação falhou)\n",
      "em fim, quais minhas restrições com este chip e aparelho?\n",
      "--------------------\n",
      "--------------------\n",
      "\n",
      "Apenas salientando algumas coisas antes de apagar qualquer conversa:\n",
      "Se um chat for apagado do aparelho, você não poderá enviar novamente a este mesmo chat pela plataforma *ao menos* que *ele mesmo entre em contato* ou *você mesma adicione o chat ao aparelho*\n",
      "Se ele entrar em contato novamente ou você adicionar, o histórico de mensagens irá aparecer normalmente no chatguru, mesmo que tenham sido apagadas do aparelho (Porém, claro, não irá aparecer se alguém apagar todas as mensagens na plataforma do ChatGuru)\n",
      "O que te recomendo: Apague chats antigos que vocês não precisam entrar em contato, e faça uma limpeza nas conversas (a limpeza irá apagar as mensagens do aparelho e não da plataforma, para isso poderá seguir essas instruições:\n",
      "3 pontinhos do whatsapp>configurações>conversas>histórico de conversas> *Limpar todas as conversas*\n",
      "(Não selecione \"Apagar todas as conversas\" senão não conseguirá continuar as conversas dos chats em atendimento pela plataforma e os chats serão perdidos)\n",
      "--------------------\n",
      "--------------------\n",
      "\n",
      " (msg 3) Eu sou brasileiro e trabalho com XYGEMS há 5 anos, e uma grande facilidade que você vai ter é ter um atendimento emPortuguês, pôs muitas pessoas nao fala inglês nem Chinês, então eu e minha equipe ira lhe atender em PORTUGUÊS \n",
      "(msg 4) Bom irei explicar um pouco sobre o nosso trabalho, mas primeiro tenho algumas perguntas, você já trabalha com semijoias, compra no atacado? ou revende semijoias? \n",
      "*RESPONDA SOMENTE SIM OU NĀO*  \n",
      "[ caso o cliente nao resposta corretamente, preciso que o bot reenvie um dialogo com ele dizendo que ele nao respondeu corretamente]\n",
      "msg para resposta sim: Show, então você esta no lugar certo, nós já trabalhamos com o mercado brasileiro há + de 8 anos e hoje estamos focado em trabalhar com pronta entrega, ou seja, antes para comprar da China precisava uma quantidade de 200 peças por modelo, e hoje aqui com a XYGEMS a quantidade mínima caiu pra 5 peças por modelo, na pronta entrega\n",
      "--------------------\n",
      "--------------------\n",
      "\n",
      "( continuando o dialogo) Nome do lead eu tenho recebido varias perguntas se trabalhamos com  prata 925, então caso você só tenha interesse em prata 925,, responda digitando o numero 1, ou responda ditando o numero 2 caso tenho interesse em peças no Bruto ou Banhadas \n",
      "1- Só tenho interesse em prata 925 \n",
      "2- Tenho interesse em peças no Bruto ou Banhadas  \n",
      "*Responda somente com 1 ou 2*\n",
      "msg para resposta sim: Ótimo, você esta diante de uma fabrica de semijoias que tem atendimento em português, já trabalha com o mercado de semijoias brasileiro, que ja atendente grandes empresas de Limeira-SP, Guaporé_RS alto atacado, e hoje nesse cenário de pandemia, estamos focamos em dar mais variedades para o nossos clientes e menos quantidades, por isso criamos esse modelo de pronta entrega\n",
      "--------------------\n",
      "--------------------\n",
      " \n",
      "msg: você foi encaminhado para o atendimento!!!!!\n",
      "Aqui, segue as respostas para quem respondeu NAO na primeira pergunta acima [você já trabalha com semijoias, compra no atacado? ou revende semijoias? \n",
      "*RESPONDA SOMENTE SIM OU NĀO*  ]\n",
      "Bom sua resposta foi Não, nao trabalho com semijoias, Nossa empresa não trabalha no varejo, mas caso tenha interesse em comprar no varejo e ganhar descontos, deixe o seu nome e email que irei encaminhar para um de nossos parceiros que trabalha no varejo, eles iram colocar você em uma lista VIP aonde você ira ganhar descontos\n",
      "--------------------\n",
      "--------------------\n",
      " \n",
      "Para dar sequencia no seu atendimento responda a pergunta abaixo:\n",
      "RESPONDA SOMENTE (1) ou (2)\n",
      "1 - Você deseja comprar no atacado (revenda)\n",
      "2 - Você deseja compra no varejo (uso próprio) \n",
      "Se (2) - Nossa fábrica não trabalha com varejo! Agradecemos  o contato! \n",
      "Se (1)\n",
      "Ótimo! \n",
      "Você esta diante de uma das maiores fábricas e exportadoras de Semi Jóias da China! \n",
      "Temos Pronta Entrega e enviamos Direto da Nossa Fábrica para seu endereço no Brasil,  com FRETE GRÁTIS para compras acima de R$ 600,00 !!!!\n",
      "Nossas peças são Microcravejadas com as melhores Zircônias do Mercado, qualidade 5A  e trabalhamos com  peças Banhadas e no Bruto! \n",
      "Enquanto você aguarda atendimento, aqui está o catalogo das peças Mais Vendidas:  \n",
      "https://conectavenda\n",
      "--------------------\n",
      "--------------------\n",
      "pode ter certeza de uma coisa se o sistema de voces nao fosse tao bacana de se trabalhar e eu nao tivesse tao acostumado ja com o servico, eu cancelaria hj mesmo minha assinatura de voces devido a falta de suporte em momento criticos q onde mais precisamos, e ainda irei para as redes sociais e usar todo meu publico q nao é pouco para falar do pessimo atendimento , estou estremamente triste com isso, pois qndo assinei achei q estava resolvendo um problema e pago minhas mensalidades antecipadamente com maior satisfacao pois sei q voces criaram algo incrivel pra ajudar,\n",
      "--------------------\n",
      "--------------------\n",
      "HENRIQUE - DAS 10 AS 13 \n",
      "PEGA - PAULA / RAMIRO / CAMILA / ALAN\n",
      "JOAO - DAS 10 AS 13 \n",
      "PEGA - JOAO / THAIS / VINICIUS / \n",
      "THAIS - DAS 13 AS 15 \n",
      "PEGA - THAIS / RAMIRO / PAULA/ JOAO / CAMILA / ALAN \n",
      "VINICIUS - DAS 13 AS 19 \n",
      "PEGA - VINICIUS / CHATS NOVOS ( RODIZIO ) \n",
      "JOAO - DAS 15 AS 17\n",
      "PEGA - JOAO / RAMIRO / PAULA / CAMILA / THAIS / ALAN \n",
      "THAIS - DAS 17 AS 18\n",
      "PEGA - THAIS  / PAULA / CAMILA \n",
      "JOAO - DAS 17 AS 18\n",
      "PEGA - JOAO / RAMIRO / ALAN\n",
      "PAULA - DAS 18 AS 20\n",
      "PEGA - PAULA / CAMILA / RAMIRO\n",
      "JOAO - DAS 18 AS 19\n",
      "PEGA - JOAO /\n",
      "THAIS - DAS 18 AS 19\n",
      "PEGA - THAIS / \n",
      "THAIS - DAS 19 AS 23\n",
      "PEGA - THAIS / VINICIUS / CHATS NOVOS ( ENTRAR NO RODIZIO )\n",
      "JOAO - DAS 19 AS 20\n",
      "PEGA - JOAO / CHATS NOVOS ( ENTRAR NO RODIZIO )\n",
      "RAMIRO - DAS 20 AS 23\n",
      "PEGA - RAMIRO / JOAO /ALAN\n",
      "PAULA - DAS 20 AS 23 \n",
      "PEGA - PAULA / CAMILA\n",
      "Obs\n",
      "--------------------\n",
      "--------------------\n",
      "Quando ocorrer esta Pergunta programda tambem colocar :\n",
      "(Menssagem ja Programda)\n",
      "O imóvel do seu interesse seria para moradia ou investimento? \n",
      "Quando responder moradia incluir:\n",
      "(esta nova menssagem com intervalo de 3 minutos, apos responder moradia)\n",
      "Perfeito, compreendi para que possa entender mais sobre o que você deseja este é o seu primeiro imóvel ou você já adquiriu imóveis anteriormente? Atualmente você reside em um imóvel alugado, casa de familiares para que possa entender um pouco mais sobre a sua necessidade\n",
      "--------------------\n"
     ]
    }
   ],
   "source": [
    "for index, row in long_message_df.iterrows():\n",
    "    print('--------------------')\n",
    "    print(row['text'])\n",
    "    print('--------------------')"
   ]
  },
  {
   "cell_type": "markdown",
   "id": "5c043391",
   "metadata": {},
   "source": [
    "It was noted that these messages were explanations on how a service should work. Like so they do not imply client sentiment. Therefore these messages will be dropped from the dataset."
   ]
  },
  {
   "cell_type": "code",
   "execution_count": 36,
   "id": "981c2ae1",
   "metadata": {},
   "outputs": [],
   "source": [
    "bert_period_break_df = bert_period_break_df[bert_period_break_df.text.apply(lambda x: len(x) <= 512)]"
   ]
  },
  {
   "cell_type": "markdown",
   "id": "2c9dcb09",
   "metadata": {},
   "source": [
    "Cleanup verification:"
   ]
  },
  {
   "cell_type": "code",
   "execution_count": 37,
   "id": "82a36c37",
   "metadata": {},
   "outputs": [
    {
     "name": "stdout",
     "output_type": "stream",
     "text": [
      "Number of messages with more than length greater than 512: \n"
     ]
    },
    {
     "data": {
      "text/plain": [
       "0"
      ]
     },
     "execution_count": 37,
     "metadata": {},
     "output_type": "execute_result"
    }
   ],
   "source": [
    "print('Number of messages with more than length greater than 512: ')\n",
    "bert_period_break_df[bert_period_break_df.text.apply(lambda x: len(x) > 512)].shape[0]"
   ]
  },
  {
   "cell_type": "markdown",
   "id": "f2208988",
   "metadata": {},
   "source": [
    "Creation of BERT pipeline:"
   ]
  },
  {
   "cell_type": "code",
   "execution_count": 40,
   "id": "6f2ff8b1",
   "metadata": {},
   "outputs": [],
   "source": [
    "from transformers import pipeline, DistilBertTokenizer, DistilBertForSequenceClassification\n",
    "\n",
    "tokenizer = DistilBertTokenizer.from_pretrained(\"distilbert-base-uncased-finetuned-sst-2-english\")\n",
    "model = DistilBertForSequenceClassification.from_pretrained(\"distilbert-base-uncased-finetuned-sst-2-english\")\n",
    "\n",
    "custom_bert_pipeline = pipeline('sentiment-analysis', model=model, tokenizer=tokenizer)"
   ]
  },
  {
   "cell_type": "code",
   "execution_count": 41,
   "id": "c15f812b",
   "metadata": {},
   "outputs": [],
   "source": [
    "# Copy of dataframe to be used in the future:\n",
    "bert_df = bert_period_break_df.copy()"
   ]
  },
  {
   "cell_type": "markdown",
   "id": "4239c9b6",
   "metadata": {},
   "source": [
    "Creation of classification and score columns: "
   ]
  },
  {
   "cell_type": "code",
   "execution_count": 42,
   "id": "e7476ff6",
   "metadata": {},
   "outputs": [],
   "source": [
    "df = bert_df.assign(\n",
    "    classification=bert_df['text'].apply(lambda x: custom_bert_pipeline(x)[0]['label']),\n",
    "    score=bert_df['text'].apply(lambda x: custom_bert_pipeline(x)[0]['score'])\n",
    ")"
   ]
  },
  {
   "cell_type": "code",
   "execution_count": 43,
   "id": "9c1259e7",
   "metadata": {},
   "outputs": [
    {
     "data": {
      "text/plain": [
       "0.21"
      ]
     },
     "execution_count": 43,
     "metadata": {},
     "output_type": "execute_result"
    }
   ],
   "source": [
    "# Percentage of \"Positive\"s:\n",
    "round(df[df.classification == 'POSITIVE'].shape[0]/df.shape[0],2)"
   ]
  },
  {
   "cell_type": "code",
   "execution_count": 44,
   "id": "b45c9727",
   "metadata": {
    "scrolled": true
   },
   "outputs": [
    {
     "data": {
      "text/plain": [
       "<Axes: >"
      ]
     },
     "execution_count": 44,
     "metadata": {},
     "output_type": "execute_result"
    },
    {
     "data": {
      "image/png": "[encoded data removed]",
      "text/plain": [
       "<Figure size 640x480 with 1 Axes>"
      ]
     },
     "metadata": {},
     "output_type": "display_data"
    }
   ],
   "source": [
    "df.score.hist()"
   ]
  },
  {
   "cell_type": "code",
   "execution_count": 45,
   "id": "004fb31f",
   "metadata": {},
   "outputs": [
    {
     "data": {
      "text/html": [
       "<div>\n",
       "<style scoped>\n",
       "    .dataframe tbody tr th:only-of-type {\n",
       "        vertical-align: middle;\n",
       "    }\n",
       "\n",
       "    .dataframe tbody tr th {\n",
       "        vertical-align: top;\n",
       "    }\n",
       "\n",
       "    .dataframe thead th {\n",
       "        text-align: right;\n",
       "    }\n",
       "</style>\n",
       "<table border=\"1\" class=\"dataframe\">\n",
       "  <thead>\n",
       "    <tr style=\"text-align: right;\">\n",
       "      <th></th>\n",
       "      <th>chat_id</th>\n",
       "      <th>text</th>\n",
       "      <th>classification</th>\n",
       "      <th>score</th>\n",
       "    </tr>\n",
       "  </thead>\n",
       "  <tbody>\n",
       "    <tr>\n",
       "      <th>0</th>\n",
       "      <td>1</td>\n",
       "      <td>Poderiam me ajudar?</td>\n",
       "      <td>NEGATIVE</td>\n",
       "      <td>0.985339</td>\n",
       "    </tr>\n",
       "    <tr>\n",
       "      <th>1</th>\n",
       "      <td>2</td>\n",
       "      <td>poderiam me ajudar ?</td>\n",
       "      <td>NEGATIVE</td>\n",
       "      <td>0.985339</td>\n",
       "    </tr>\n",
       "    <tr>\n",
       "      <th>2</th>\n",
       "      <td>2</td>\n",
       "      <td>gostaria de saber se tem como eu remover a res...</td>\n",
       "      <td>NEGATIVE</td>\n",
       "      <td>0.919400</td>\n",
       "    </tr>\n",
       "    <tr>\n",
       "      <th>3</th>\n",
       "      <td>2</td>\n",
       "      <td>caso não possa ser removido, tem alguma maneir...</td>\n",
       "      <td>NEGATIVE</td>\n",
       "      <td>0.990002</td>\n",
       "    </tr>\n",
       "    <tr>\n",
       "      <th>4</th>\n",
       "      <td>2</td>\n",
       "      <td>quer dizer, me refiro as mensagens do chatbot</td>\n",
       "      <td>NEGATIVE</td>\n",
       "      <td>0.979403</td>\n",
       "    </tr>\n",
       "    <tr>\n",
       "      <th>5</th>\n",
       "      <td>2</td>\n",
       "      <td>no caso eu queria remover ela só pra um usuário</td>\n",
       "      <td>NEGATIVE</td>\n",
       "      <td>0.990147</td>\n",
       "    </tr>\n",
       "    <tr>\n",
       "      <th>6</th>\n",
       "      <td>2</td>\n",
       "      <td>é possível ?</td>\n",
       "      <td>NEGATIVE</td>\n",
       "      <td>0.971585</td>\n",
       "    </tr>\n",
       "    <tr>\n",
       "      <th>7</th>\n",
       "      <td>2</td>\n",
       "      <td>seria esta mensagem \"\\nEsse telefone não receb...</td>\n",
       "      <td>NEGATIVE</td>\n",
       "      <td>0.978365</td>\n",
       "    </tr>\n",
       "    <tr>\n",
       "      <th>8</th>\n",
       "      <td>2</td>\n",
       "      <td>quero que desative essa mensagem só pro usuári...</td>\n",
       "      <td>NEGATIVE</td>\n",
       "      <td>0.918393</td>\n",
       "    </tr>\n",
       "    <tr>\n",
       "      <th>9</th>\n",
       "      <td>2</td>\n",
       "      <td>pois esse número está errado e ainda estamos v...</td>\n",
       "      <td>NEGATIVE</td>\n",
       "      <td>0.931621</td>\n",
       "    </tr>\n",
       "    <tr>\n",
       "      <th>10</th>\n",
       "      <td>2</td>\n",
       "      <td>ai até decidirmos gostaríamos de desativar do ...</td>\n",
       "      <td>NEGATIVE</td>\n",
       "      <td>0.945117</td>\n",
       "    </tr>\n",
       "    <tr>\n",
       "      <th>11</th>\n",
       "      <td>2</td>\n",
       "      <td>ok, vou avisar o pessoal para ver como vamos p...</td>\n",
       "      <td>NEGATIVE</td>\n",
       "      <td>0.981180</td>\n",
       "    </tr>\n",
       "    <tr>\n",
       "      <th>12</th>\n",
       "      <td>3</td>\n",
       "      <td>*DDL:* \\nBoa tarde, Juliana!</td>\n",
       "      <td>POSITIVE</td>\n",
       "      <td>0.556891</td>\n",
       "    </tr>\n",
       "    <tr>\n",
       "      <th>13</th>\n",
       "      <td>3</td>\n",
       "      <td>*DDL:* \\ntudo bem?</td>\n",
       "      <td>NEGATIVE</td>\n",
       "      <td>0.989323</td>\n",
       "    </tr>\n",
       "    <tr>\n",
       "      <th>14</th>\n",
       "      <td>3</td>\n",
       "      <td>*DDL:* \\nPeço gentilmente, a verificação no ch...</td>\n",
       "      <td>NEGATIVE</td>\n",
       "      <td>0.992723</td>\n",
       "    </tr>\n",
       "    <tr>\n",
       "      <th>15</th>\n",
       "      <td>3</td>\n",
       "      <td>*DDL:* \\nmuito obrigada</td>\n",
       "      <td>NEGATIVE</td>\n",
       "      <td>0.988072</td>\n",
       "    </tr>\n",
       "    <tr>\n",
       "      <th>16</th>\n",
       "      <td>3</td>\n",
       "      <td>*DDL:* \\nera só isso mesmo, obrigada.</td>\n",
       "      <td>NEGATIVE</td>\n",
       "      <td>0.958671</td>\n",
       "    </tr>\n",
       "    <tr>\n",
       "      <th>17</th>\n",
       "      <td>4</td>\n",
       "      <td>*DDL:* \\nPrezados, bom dia!</td>\n",
       "      <td>POSITIVE</td>\n",
       "      <td>0.990306</td>\n",
       "    </tr>\n",
       "    <tr>\n",
       "      <th>18</th>\n",
       "      <td>4</td>\n",
       "      <td>*DDL:* \\ntudo bem?</td>\n",
       "      <td>NEGATIVE</td>\n",
       "      <td>0.989323</td>\n",
       "    </tr>\n",
       "    <tr>\n",
       "      <th>19</th>\n",
       "      <td>4</td>\n",
       "      <td>Bom dia, ZapGuru.\\nSeja bem vindo a *Dotta Don...</td>\n",
       "      <td>NEGATIVE</td>\n",
       "      <td>0.985064</td>\n",
       "    </tr>\n",
       "  </tbody>\n",
       "</table>\n",
       "</div>"
      ],
      "text/plain": [
       "    chat_id                                               text classification  \\\n",
       "0         1                                Poderiam me ajudar?       NEGATIVE   \n",
       "1         2                               poderiam me ajudar ?       NEGATIVE   \n",
       "2         2  gostaria de saber se tem como eu remover a res...       NEGATIVE   \n",
       "3         2  caso não possa ser removido, tem alguma maneir...       NEGATIVE   \n",
       "4         2      quer dizer, me refiro as mensagens do chatbot       NEGATIVE   \n",
       "5         2    no caso eu queria remover ela só pra um usuário       NEGATIVE   \n",
       "6         2                                       é possível ?       NEGATIVE   \n",
       "7         2  seria esta mensagem \"\\nEsse telefone não receb...       NEGATIVE   \n",
       "8         2  quero que desative essa mensagem só pro usuári...       NEGATIVE   \n",
       "9         2  pois esse número está errado e ainda estamos v...       NEGATIVE   \n",
       "10        2  ai até decidirmos gostaríamos de desativar do ...       NEGATIVE   \n",
       "11        2  ok, vou avisar o pessoal para ver como vamos p...       NEGATIVE   \n",
       "12        3                       *DDL:* \\nBoa tarde, Juliana!       POSITIVE   \n",
       "13        3                                 *DDL:* \\ntudo bem?       NEGATIVE   \n",
       "14        3  *DDL:* \\nPeço gentilmente, a verificação no ch...       NEGATIVE   \n",
       "15        3                            *DDL:* \\nmuito obrigada       NEGATIVE   \n",
       "16        3              *DDL:* \\nera só isso mesmo, obrigada.       NEGATIVE   \n",
       "17        4                        *DDL:* \\nPrezados, bom dia!       POSITIVE   \n",
       "18        4                                 *DDL:* \\ntudo bem?       NEGATIVE   \n",
       "19        4  Bom dia, ZapGuru.\\nSeja bem vindo a *Dotta Don...       NEGATIVE   \n",
       "\n",
       "       score  \n",
       "0   0.985339  \n",
       "1   0.985339  \n",
       "2   0.919400  \n",
       "3   0.990002  \n",
       "4   0.979403  \n",
       "5   0.990147  \n",
       "6   0.971585  \n",
       "7   0.978365  \n",
       "8   0.918393  \n",
       "9   0.931621  \n",
       "10  0.945117  \n",
       "11  0.981180  \n",
       "12  0.556891  \n",
       "13  0.989323  \n",
       "14  0.992723  \n",
       "15  0.988072  \n",
       "16  0.958671  \n",
       "17  0.990306  \n",
       "18  0.989323  \n",
       "19  0.985064  "
      ]
     },
     "execution_count": 45,
     "metadata": {},
     "output_type": "execute_result"
    }
   ],
   "source": [
    "df.head(20)"
   ]
  },
  {
   "cell_type": "markdown",
   "id": "a8f3e3b1",
   "metadata": {},
   "source": [
    "Export dataframe as CSV:"
   ]
  },
  {
   "cell_type": "code",
   "execution_count": 64,
   "id": "6b9d05b4",
   "metadata": {},
   "outputs": [],
   "source": [
    "df.to_json('default_bert_data', orient='records',lines=True,force_ascii=False)"
   ]
  },
  {
   "cell_type": "markdown",
   "id": "3ce6759d",
   "metadata": {},
   "source": [
    "## Sentiment Analysis using BERTimbau"
   ]
  },
  {
   "cell_type": "markdown",
   "id": "2020d0c3",
   "metadata": {},
   "source": [
    "Creation of Bertimbau pipeline:"
   ]
  },
  {
   "cell_type": "code",
   "execution_count": 46,
   "id": "3a2aeb06",
   "metadata": {},
   "outputs": [
    {
     "name": "stderr",
     "output_type": "stream",
     "text": [
      "Some weights of the model checkpoint at neuralmind/bert-base-portuguese-cased were not used when initializing BertForSequenceClassification: ['cls.predictions.transform.dense.weight', 'cls.predictions.transform.LayerNorm.weight', 'cls.predictions.decoder.weight', 'cls.predictions.transform.LayerNorm.bias', 'cls.predictions.transform.dense.bias', 'cls.seq_relationship.weight', 'cls.seq_relationship.bias', 'cls.predictions.bias']\n",
      "- This IS expected if you are initializing BertForSequenceClassification from the checkpoint of a model trained on another task or with another architecture (e.g. initializing a BertForSequenceClassification model from a BertForPreTraining model).\n",
      "- This IS NOT expected if you are initializing BertForSequenceClassification from the checkpoint of a model that you expect to be exactly identical (initializing a BertForSequenceClassification model from a BertForSequenceClassification model).\n",
      "Some weights of BertForSequenceClassification were not initialized from the model checkpoint at neuralmind/bert-base-portuguese-cased and are newly initialized: ['classifier.weight', 'classifier.bias']\n",
      "You should probably TRAIN this model on a down-stream task to be able to use it for predictions and inference.\n"
     ]
    }
   ],
   "source": [
    "from transformers import BertForSequenceClassification\n",
    "\n",
    "tokenizer = AutoTokenizer.from_pretrained('neuralmind/bert-base-portuguese-cased')\n",
    "\n",
    "pipe = pipeline(task='sentiment-analysis', model='neuralmind/bert-base-portuguese-cased', tokenizer=tokenizer)"
   ]
  },
  {
   "cell_type": "code",
   "execution_count": 47,
   "id": "90eb20a6",
   "metadata": {
    "scrolled": false
   },
   "outputs": [
    {
     "name": "stdout",
     "output_type": "stream",
     "text": [
      "CPU times: total: 4h 36min 59s\n",
      "Wall time: 49min 16s\n"
     ]
    }
   ],
   "source": [
    "%%time\n",
    "df_bertimbau = bert_df.assign(\n",
    "    classification=bert_df['text'].apply(lambda x: pipe(x)[0]['label']),\n",
    "    score=bert_df['text'].apply(lambda x: pipe(x)[0]['score'])\n",
    ")"
   ]
  },
  {
   "cell_type": "code",
   "execution_count": 48,
   "id": "fa24d385",
   "metadata": {
    "scrolled": false
   },
   "outputs": [
    {
     "data": {
      "text/html": [
       "<div>\n",
       "<style scoped>\n",
       "    .dataframe tbody tr th:only-of-type {\n",
       "        vertical-align: middle;\n",
       "    }\n",
       "\n",
       "    .dataframe tbody tr th {\n",
       "        vertical-align: top;\n",
       "    }\n",
       "\n",
       "    .dataframe thead th {\n",
       "        text-align: right;\n",
       "    }\n",
       "</style>\n",
       "<table border=\"1\" class=\"dataframe\">\n",
       "  <thead>\n",
       "    <tr style=\"text-align: right;\">\n",
       "      <th></th>\n",
       "      <th>chat_id</th>\n",
       "      <th>text</th>\n",
       "      <th>classification</th>\n",
       "      <th>score</th>\n",
       "    </tr>\n",
       "  </thead>\n",
       "  <tbody>\n",
       "    <tr>\n",
       "      <th>0</th>\n",
       "      <td>1</td>\n",
       "      <td>Poderiam me ajudar?</td>\n",
       "      <td>LABEL_0</td>\n",
       "      <td>0.541085</td>\n",
       "    </tr>\n",
       "    <tr>\n",
       "      <th>1</th>\n",
       "      <td>2</td>\n",
       "      <td>poderiam me ajudar ?</td>\n",
       "      <td>LABEL_0</td>\n",
       "      <td>0.529041</td>\n",
       "    </tr>\n",
       "    <tr>\n",
       "      <th>2</th>\n",
       "      <td>2</td>\n",
       "      <td>gostaria de saber se tem como eu remover a res...</td>\n",
       "      <td>LABEL_0</td>\n",
       "      <td>0.521828</td>\n",
       "    </tr>\n",
       "    <tr>\n",
       "      <th>3</th>\n",
       "      <td>2</td>\n",
       "      <td>caso não possa ser removido, tem alguma maneir...</td>\n",
       "      <td>LABEL_0</td>\n",
       "      <td>0.502807</td>\n",
       "    </tr>\n",
       "    <tr>\n",
       "      <th>4</th>\n",
       "      <td>2</td>\n",
       "      <td>quer dizer, me refiro as mensagens do chatbot</td>\n",
       "      <td>LABEL_0</td>\n",
       "      <td>0.514562</td>\n",
       "    </tr>\n",
       "    <tr>\n",
       "      <th>5</th>\n",
       "      <td>2</td>\n",
       "      <td>no caso eu queria remover ela só pra um usuário</td>\n",
       "      <td>LABEL_0</td>\n",
       "      <td>0.505109</td>\n",
       "    </tr>\n",
       "    <tr>\n",
       "      <th>6</th>\n",
       "      <td>2</td>\n",
       "      <td>é possível ?</td>\n",
       "      <td>LABEL_0</td>\n",
       "      <td>0.501568</td>\n",
       "    </tr>\n",
       "    <tr>\n",
       "      <th>7</th>\n",
       "      <td>2</td>\n",
       "      <td>seria esta mensagem \"\\nEsse telefone não receb...</td>\n",
       "      <td>LABEL_0</td>\n",
       "      <td>0.503156</td>\n",
       "    </tr>\n",
       "    <tr>\n",
       "      <th>8</th>\n",
       "      <td>2</td>\n",
       "      <td>quero que desative essa mensagem só pro usuári...</td>\n",
       "      <td>LABEL_0</td>\n",
       "      <td>0.509688</td>\n",
       "    </tr>\n",
       "    <tr>\n",
       "      <th>9</th>\n",
       "      <td>2</td>\n",
       "      <td>pois esse número está errado e ainda estamos v...</td>\n",
       "      <td>LABEL_0</td>\n",
       "      <td>0.527137</td>\n",
       "    </tr>\n",
       "  </tbody>\n",
       "</table>\n",
       "</div>"
      ],
      "text/plain": [
       "   chat_id                                               text classification  \\\n",
       "0        1                                Poderiam me ajudar?        LABEL_0   \n",
       "1        2                               poderiam me ajudar ?        LABEL_0   \n",
       "2        2  gostaria de saber se tem como eu remover a res...        LABEL_0   \n",
       "3        2  caso não possa ser removido, tem alguma maneir...        LABEL_0   \n",
       "4        2      quer dizer, me refiro as mensagens do chatbot        LABEL_0   \n",
       "5        2    no caso eu queria remover ela só pra um usuário        LABEL_0   \n",
       "6        2                                       é possível ?        LABEL_0   \n",
       "7        2  seria esta mensagem \"\\nEsse telefone não receb...        LABEL_0   \n",
       "8        2  quero que desative essa mensagem só pro usuári...        LABEL_0   \n",
       "9        2  pois esse número está errado e ainda estamos v...        LABEL_0   \n",
       "\n",
       "      score  \n",
       "0  0.541085  \n",
       "1  0.529041  \n",
       "2  0.521828  \n",
       "3  0.502807  \n",
       "4  0.514562  \n",
       "5  0.505109  \n",
       "6  0.501568  \n",
       "7  0.503156  \n",
       "8  0.509688  \n",
       "9  0.527137  "
      ]
     },
     "execution_count": 48,
     "metadata": {},
     "output_type": "execute_result"
    }
   ],
   "source": [
    "df_bertimbau.head(10)"
   ]
  },
  {
   "cell_type": "code",
   "execution_count": 49,
   "id": "a4c5f9b8",
   "metadata": {},
   "outputs": [
    {
     "data": {
      "text/plain": [
       "<Axes: >"
      ]
     },
     "execution_count": 49,
     "metadata": {},
     "output_type": "execute_result"
    },
    {
     "data": {
      "image/png": "[encoded data removed]",
      "text/plain": [
       "<Figure size 640x480 with 1 Axes>"
      ]
     },
     "metadata": {},
     "output_type": "display_data"
    }
   ],
   "source": [
    "df_bertimbau.score.hist()"
   ]
  },
  {
   "cell_type": "code",
   "execution_count": 65,
   "id": "e31e7592",
   "metadata": {},
   "outputs": [],
   "source": [
    "df_bertimbau.to_json('bertimbau_data', orient='records',lines=True,force_ascii=False)"
   ]
  },
  {
   "cell_type": "markdown",
   "id": "db8490be",
   "metadata": {},
   "source": [
    "## Sentiment Analysis using LeIA (Vader for PT-Br)"
   ]
  },
  {
   "cell_type": "markdown",
   "id": "152ecfc3",
   "metadata": {},
   "source": [
    "Create instance of Sentiment Intensity Analyzer from LeIA lib:"
   ]
  },
  {
   "cell_type": "code",
   "execution_count": 50,
   "id": "419388ac",
   "metadata": {},
   "outputs": [
    {
     "data": {
      "text/plain": [
       "{'neg': 0.0, 'neu': 1.0, 'pos': 0.0, 'compound': 0.0}"
      ]
     },
     "execution_count": 50,
     "metadata": {},
     "output_type": "execute_result"
    }
   ],
   "source": [
    "from LeIA import SentimentIntensityAnalyzer\n",
    "\n",
    "analyzer = SentimentIntensityAnalyzer()\n",
    "\n",
    "analyzer.polarity_scores('Poderiam me ajudar?')"
   ]
  },
  {
   "cell_type": "code",
   "execution_count": 51,
   "id": "a31aff4e",
   "metadata": {},
   "outputs": [
    {
     "data": {
      "text/plain": [
       "<LeIA.leia.SentimentIntensityAnalyzer at 0x1755ceb0ee0>"
      ]
     },
     "execution_count": 51,
     "metadata": {},
     "output_type": "execute_result"
    }
   ],
   "source": [
    "analyzer"
   ]
  },
  {
   "cell_type": "code",
   "execution_count": 52,
   "id": "8262eaad",
   "metadata": {},
   "outputs": [],
   "source": [
    "def extract_leia_sentiment(compound):\n",
    "    sent_output = {'label':'', 'new_score':0}    \n",
    "    \n",
    "    sent_output['new_score'] = (compound + 1) / 2\n",
    "    \n",
    "    if compound == 0:\n",
    "        sent_output['label'] = 'NEUTRAL'\n",
    "        return sent_output\n",
    "    elif compound > 0.2:\n",
    "        sent_output['label'] = 'POSITIVE'\n",
    "        return sent_output\n",
    "    elif compound > 0:\n",
    "        sent_output['label'] = 'NEUTRAL POSITIVE'\n",
    "        return sent_output\n",
    "    elif compound > -0.2 :\n",
    "        sent_output['label'] = 'NEUTRAL NEGATIVE'\n",
    "        return sent_output\n",
    "    else:\n",
    "        sent_output['label'] = 'NEGATIVE'\n",
    "        return sent_output\n",
    "        "
   ]
  },
  {
   "cell_type": "code",
   "execution_count": 53,
   "id": "34d49866",
   "metadata": {},
   "outputs": [
    {
     "data": {
      "text/plain": [
       "'NEUTRAL NEGATIVE'"
      ]
     },
     "execution_count": 53,
     "metadata": {},
     "output_type": "execute_result"
    }
   ],
   "source": [
    "extract_leia_sentiment(-0.19999)['label']"
   ]
  },
  {
   "cell_type": "code",
   "execution_count": 54,
   "id": "c894dcff",
   "metadata": {},
   "outputs": [
    {
     "name": "stdout",
     "output_type": "stream",
     "text": [
      "CPU times: total: 4.83 s\n",
      "Wall time: 5.34 s\n"
     ]
    }
   ],
   "source": [
    "%%time\n",
    "df_leia = bert_df.assign(\n",
    "    score=bert_df['text'].apply(lambda x: analyzer.polarity_scores(x)['compound'])\n",
    ")\n"
   ]
  },
  {
   "cell_type": "code",
   "execution_count": 55,
   "id": "aa4ef4ac",
   "metadata": {},
   "outputs": [],
   "source": [
    "df_leia = df_leia.assign(\n",
    "    normalized_score=df_leia['score'].apply(lambda x: extract_leia_sentiment(x)['new_score']),\n",
    "    label = df_leia['score'].apply(lambda x: extract_leia_sentiment(x)['label']),\n",
    ")\n"
   ]
  },
  {
   "cell_type": "code",
   "execution_count": 56,
   "id": "11ae6eb7",
   "metadata": {},
   "outputs": [
    {
     "data": {
      "text/html": [
       "<div>\n",
       "<style scoped>\n",
       "    .dataframe tbody tr th:only-of-type {\n",
       "        vertical-align: middle;\n",
       "    }\n",
       "\n",
       "    .dataframe tbody tr th {\n",
       "        vertical-align: top;\n",
       "    }\n",
       "\n",
       "    .dataframe thead th {\n",
       "        text-align: right;\n",
       "    }\n",
       "</style>\n",
       "<table border=\"1\" class=\"dataframe\">\n",
       "  <thead>\n",
       "    <tr style=\"text-align: right;\">\n",
       "      <th></th>\n",
       "      <th>chat_id</th>\n",
       "      <th>text</th>\n",
       "      <th>score</th>\n",
       "      <th>normalized_score</th>\n",
       "      <th>label</th>\n",
       "    </tr>\n",
       "  </thead>\n",
       "  <tbody>\n",
       "    <tr>\n",
       "      <th>0</th>\n",
       "      <td>1</td>\n",
       "      <td>Poderiam me ajudar?</td>\n",
       "      <td>0.0000</td>\n",
       "      <td>0.5000</td>\n",
       "      <td>NEUTRAL NEGATIVE</td>\n",
       "    </tr>\n",
       "    <tr>\n",
       "      <th>1</th>\n",
       "      <td>2</td>\n",
       "      <td>poderiam me ajudar ?</td>\n",
       "      <td>0.0000</td>\n",
       "      <td>0.5000</td>\n",
       "      <td>NEUTRAL NEGATIVE</td>\n",
       "    </tr>\n",
       "    <tr>\n",
       "      <th>2</th>\n",
       "      <td>2</td>\n",
       "      <td>gostaria de saber se tem como eu remover a res...</td>\n",
       "      <td>0.0000</td>\n",
       "      <td>0.5000</td>\n",
       "      <td>NEUTRAL NEGATIVE</td>\n",
       "    </tr>\n",
       "    <tr>\n",
       "      <th>3</th>\n",
       "      <td>2</td>\n",
       "      <td>caso não possa ser removido, tem alguma maneir...</td>\n",
       "      <td>-0.2960</td>\n",
       "      <td>0.3520</td>\n",
       "      <td>NEGATIVE</td>\n",
       "    </tr>\n",
       "    <tr>\n",
       "      <th>4</th>\n",
       "      <td>2</td>\n",
       "      <td>quer dizer, me refiro as mensagens do chatbot</td>\n",
       "      <td>0.0772</td>\n",
       "      <td>0.5386</td>\n",
       "      <td>NEUTRAL POSITIVE</td>\n",
       "    </tr>\n",
       "    <tr>\n",
       "      <th>5</th>\n",
       "      <td>2</td>\n",
       "      <td>no caso eu queria remover ela só pra um usuário</td>\n",
       "      <td>0.0000</td>\n",
       "      <td>0.5000</td>\n",
       "      <td>NEUTRAL NEGATIVE</td>\n",
       "    </tr>\n",
       "    <tr>\n",
       "      <th>6</th>\n",
       "      <td>2</td>\n",
       "      <td>é possível ?</td>\n",
       "      <td>0.3182</td>\n",
       "      <td>0.6591</td>\n",
       "      <td>POSITIVE</td>\n",
       "    </tr>\n",
       "    <tr>\n",
       "      <th>7</th>\n",
       "      <td>2</td>\n",
       "      <td>seria esta mensagem \"\\nEsse telefone não receb...</td>\n",
       "      <td>-0.3612</td>\n",
       "      <td>0.3194</td>\n",
       "      <td>NEGATIVE</td>\n",
       "    </tr>\n",
       "    <tr>\n",
       "      <th>8</th>\n",
       "      <td>2</td>\n",
       "      <td>quero que desative essa mensagem só pro usuári...</td>\n",
       "      <td>0.0000</td>\n",
       "      <td>0.5000</td>\n",
       "      <td>NEUTRAL NEGATIVE</td>\n",
       "    </tr>\n",
       "    <tr>\n",
       "      <th>9</th>\n",
       "      <td>2</td>\n",
       "      <td>pois esse número está errado e ainda estamos v...</td>\n",
       "      <td>-0.3612</td>\n",
       "      <td>0.3194</td>\n",
       "      <td>NEGATIVE</td>\n",
       "    </tr>\n",
       "  </tbody>\n",
       "</table>\n",
       "</div>"
      ],
      "text/plain": [
       "   chat_id                                               text   score  \\\n",
       "0        1                                Poderiam me ajudar?  0.0000   \n",
       "1        2                               poderiam me ajudar ?  0.0000   \n",
       "2        2  gostaria de saber se tem como eu remover a res...  0.0000   \n",
       "3        2  caso não possa ser removido, tem alguma maneir... -0.2960   \n",
       "4        2      quer dizer, me refiro as mensagens do chatbot  0.0772   \n",
       "5        2    no caso eu queria remover ela só pra um usuário  0.0000   \n",
       "6        2                                       é possível ?  0.3182   \n",
       "7        2  seria esta mensagem \"\\nEsse telefone não receb... -0.3612   \n",
       "8        2  quero que desative essa mensagem só pro usuári...  0.0000   \n",
       "9        2  pois esse número está errado e ainda estamos v... -0.3612   \n",
       "\n",
       "   normalized_score             label  \n",
       "0            0.5000  NEUTRAL NEGATIVE  \n",
       "1            0.5000  NEUTRAL NEGATIVE  \n",
       "2            0.5000  NEUTRAL NEGATIVE  \n",
       "3            0.3520          NEGATIVE  \n",
       "4            0.5386  NEUTRAL POSITIVE  \n",
       "5            0.5000  NEUTRAL NEGATIVE  \n",
       "6            0.6591          POSITIVE  \n",
       "7            0.3194          NEGATIVE  \n",
       "8            0.5000  NEUTRAL NEGATIVE  \n",
       "9            0.3194          NEGATIVE  "
      ]
     },
     "execution_count": 56,
     "metadata": {},
     "output_type": "execute_result"
    }
   ],
   "source": [
    "df_leia.head(10)"
   ]
  },
  {
   "cell_type": "code",
   "execution_count": 57,
   "id": "bb69135a",
   "metadata": {},
   "outputs": [
    {
     "data": {
      "text/plain": [
       "<Axes: >"
      ]
     },
     "execution_count": 57,
     "metadata": {},
     "output_type": "execute_result"
    },
    {
     "data": {
      "image/png": "[encoded data removed]",
      "text/plain": [
       "<Figure size 640x480 with 1 Axes>"
      ]
     },
     "metadata": {},
     "output_type": "display_data"
    }
   ],
   "source": [
    "df_leia.label.hist()"
   ]
  },
  {
   "cell_type": "code",
   "execution_count": 58,
   "id": "b31b8103",
   "metadata": {},
   "outputs": [
    {
     "data": {
      "text/plain": [
       "<Axes: >"
      ]
     },
     "execution_count": 58,
     "metadata": {},
     "output_type": "execute_result"
    },
    {
     "data": {
      "image/png": "[encoded data removed]",
      "text/plain": [
       "<Figure size 640x480 with 1 Axes>"
      ]
     },
     "metadata": {},
     "output_type": "display_data"
    }
   ],
   "source": [
    "df_leia.score.hist()"
   ]
  },
  {
   "cell_type": "code",
   "execution_count": 66,
   "id": "a78c1cd9",
   "metadata": {},
   "outputs": [],
   "source": [
    "df_leia.to_json('leia_data', orient='records',lines=True,force_ascii=False)"
   ]
  },
  {
   "cell_type": "code",
   "execution_count": null,
   "id": "467565bb",
   "metadata": {},
   "outputs": [],
   "source": []
  }
 ],
 "metadata": {
  "kernelspec": {
   "display_name": "Python 3 (ipykernel)",
   "language": "python",
   "name": "python3"
  },
  "language_info": {
   "codemirror_mode": {
    "name": "ipython",
    "version": 3
   },
   "file_extension": ".py",
   "mimetype": "text/x-python",
   "name": "python",
   "nbconvert_exporter": "python",
   "pygments_lexer": "ipython3",
   "version": "3.10.7"
  }
 },
 "nbformat": 4,
 "nbformat_minor": 5
}
