{
 "cells": [
  {
   "cell_type": "markdown",
   "metadata": {
    "colab_type": "text",
    "id": "8WE-5f42Lo19"
   },
   "source": [
    "# Cleaning Quiz: Udacity's Course Catalog\n",
    "It's your turn! Udacity's [course catalog page](https://www.udacity.com/courses/all) has changed since the last video was filmed. One notable change is the introduction of  _schools_.\n",
    "\n",
    "In this activity, you're going to perform similar actions with BeautifulSoup to extract the following information from each course listing on the page:\n",
    "1. The course name - e.g. \"Data Analyst\"\n",
    "2. The school the course belongs to - e.g. \"School of Data Science\""
   ]
  },
  {
   "cell_type": "markdown",
   "metadata": {
    "colab_type": "text",
    "id": "qgeSC9gZLo1-"
   },
   "source": [
    "### Step 1: Get text from Udacity's course catalog web page\n",
    "You can use the `requests` library to do this.\n",
    "\n",
    "Outputting all the javascript, CSS, and text may overload the space available to load this notebook, so we omit a print statement here."
   ]
  },
  {
   "cell_type": "code",
   "execution_count": 1,
   "metadata": {
    "colab": {},
    "colab_type": "code",
    "id": "Xn7UWaD2Lo1_"
   },
   "outputs": [],
   "source": [
    "# import statements\n",
    "import requests\n",
    "from bs4 import BeautifulSoup"
   ]
  },
  {
   "cell_type": "code",
   "execution_count": 2,
   "metadata": {
    "colab": {},
    "colab_type": "code",
    "id": "0SfMtibnLo2B"
   },
   "outputs": [],
   "source": [
    "# fetch web page\n",
    "r = requests.get(\"https://www.udacity.com/courses/all\")"
   ]
  },
  {
   "cell_type": "markdown",
   "metadata": {
    "colab_type": "text",
    "id": "iiGyHhQvLo2K"
   },
   "source": [
    "### Step 2: Use BeautifulSoup to remove HTML tags\n",
    "Use `\"lxml\"` rather than `\"html5lib\"`.\n",
    "\n",
    "Again, outputting all the results may overload the space available to load this notebook, so we omit a print statement here."
   ]
  },
  {
   "cell_type": "code",
   "execution_count": 3,
   "metadata": {
    "colab": {},
    "colab_type": "code",
    "id": "lvnUjtlRLo2L"
   },
   "outputs": [],
   "source": [
    "soup = BeautifulSoup(r.text, \"lxml\")"
   ]
  },
  {
   "cell_type": "markdown",
   "metadata": {
    "colab_type": "text",
    "id": "OtuBtrdgLo2P"
   },
   "source": [
    "### Step 3: Find all course summaries\n",
    "Use the BeautifulSoup's `find_all` method to select based on tag type and class name. Just ike in the video, you can right click on the item, and click \"Inspect\" to view its html on a web page."
   ]
  },
  {
   "cell_type": "code",
   "execution_count": 26,
   "metadata": {
    "colab": {
     "base_uri": "https://localhost:8080/",
     "height": 34
    },
    "colab_type": "code",
    "id": "OuXx9mZyLo2Q",
    "outputId": "69aa7852-8fcc-49d6-c52d-6c77d89f0487"
   },
   "outputs": [
    {
     "name": "stdout",
     "output_type": "stream",
     "text": [
      "Number of Courses: 280\n"
     ]
    }
   ],
   "source": [
    "# Find all course summaries\n",
    "summaries = soup.find_all(\"li\")\n",
    "print('Number of Courses:', len(summaries))"
   ]
  },
  {
   "cell_type": "markdown",
   "metadata": {
    "colab_type": "text",
    "id": "Rcit8773Lo2S"
   },
   "source": [
    "### Step 4: Inspect the first summary to find selectors for the course name and school\n",
    "Tip: `.prettify()` is a super helpful method BeautifulSoup provides to output html in a nicely indented form! Make sure to use `print()` to ensure whitespace is displayed properly."
   ]
  },
  {
   "cell_type": "code",
   "execution_count": 35,
   "metadata": {
    "colab": {
     "base_uri": "https://localhost:8080/",
     "height": 1000
    },
    "colab_type": "code",
    "id": "mfD_R8RZLo2T",
    "outputId": "8cdcaf8c-2891-473e-e21b-d9d16bddd1f4"
   },
   "outputs": [
    {
     "name": "stdout",
     "output_type": "stream",
     "text": [
      "<li>\n",
      " <a class=\"nav_catalogNavLink__30IaD nav_sectionLink__2kNHM\" href=\"/courses/school-of-ai\">\n",
      "  Artificial Intelligence\n",
      " </a>\n",
      " <ul class=\"nav_catalogNavList__2m8Da\">\n",
      "  <li>\n",
      "   <a class=\"nav_catalogNavLink__30IaD nav_subSectionLink__CNYvm\" href=\"/courses/ai-for-business-leaders--nd054\">\n",
      "    AI for Business Leaders\n",
      "   </a>\n",
      "  </li>\n",
      "  <li>\n",
      "   <a class=\"nav_catalogNavLink__30IaD nav_subSectionLink__CNYvm\" href=\"/courses/ai-for-healthcare-nanodegree--nd320\">\n",
      "    AI for Healthcare\n",
      "   </a>\n",
      "  </li>\n",
      "  <li>\n",
      "   <a class=\"nav_catalogNavLink__30IaD nav_subSectionLink__CNYvm\" href=\"/courses/ai-product-manager-nanodegree--nd088\">\n",
      "    AI Product Manager\n",
      "   </a>\n",
      "  </li>\n",
      "  <li>\n",
      "   <a class=\"nav_catalogNavLink__30IaD nav_subSectionLink__CNYvm\" href=\"/courses/ai-programming-python-nanodegree--nd089\">\n",
      "    AI Programming with Python\n",
      "   </a>\n",
      "  </li>\n",
      "  <li>\n",
      "   <a class=\"nav_catalogNavLink__30IaD nav_subSectionLink__CNYvm\" href=\"/courses/ai-artificial-intelligence-nanodegree--nd898\">\n",
      "    Artificial Intelligence\n",
      "   </a>\n",
      "  </li>\n",
      "  <li>\n",
      "   <a class=\"nav_catalogNavLink__30IaD nav_subSectionLink__CNYvm\" href=\"/courses/ai-for-trading--nd880\">\n",
      "    Artificial Intelligence for Trading\n",
      "   </a>\n",
      "  </li>\n",
      "  <li>\n",
      "   <a class=\"nav_catalogNavLink__30IaD nav_subSectionLink__CNYvm\" href=\"/courses/computer-vision-nanodegree--nd891\">\n",
      "    Computer Vision\n",
      "   </a>\n",
      "  </li>\n",
      "  <li>\n",
      "   <a class=\"nav_catalogNavLink__30IaD nav_subSectionLink__CNYvm\" href=\"/courses/deep-learning-nanodegree--nd101\">\n",
      "    Deep Learning\n",
      "   </a>\n",
      "  </li>\n",
      "  <li>\n",
      "   <a class=\"nav_catalogNavLink__30IaD nav_subSectionLink__CNYvm\" href=\"/courses/deep-reinforcement-learning-nanodegree--nd893\">\n",
      "    Deep Reinforcement Learning\n",
      "   </a>\n",
      "  </li>\n",
      "  <li>\n",
      "   <a class=\"nav_catalogNavLink__30IaD nav_subSectionLink__CNYvm\" href=\"/courses/intel-edge-ai-for-iot-developers-nanodegree--nd131\">\n",
      "    IntelÂ® Edge AI for IoT Developers\n",
      "   </a>\n",
      "  </li>\n",
      "  <li>\n",
      "   <a class=\"nav_catalogNavLink__30IaD nav_subSectionLink__CNYvm\" href=\"/courses/intro-to-machine-learning-nanodegree--nd229\">\n",
      "    Intro to Machine Learning with PyTorch\n",
      "   </a>\n",
      "  </li>\n",
      "  <li>\n",
      "   <a class=\"nav_catalogNavLink__30IaD nav_subSectionLink__CNYvm\" href=\"/courses/intro-to-machine-learning-with-tensorflow-nanodegree--nd230\">\n",
      "    Intro to Machine Learning with TensorFlow\n",
      "   </a>\n",
      "  </li>\n",
      "  <li>\n",
      "   <a class=\"nav_catalogNavLink__30IaD nav_subSectionLink__CNYvm\" href=\"/courses/machine-learning-dev-ops-engineer-nanodegree--nd0821\">\n",
      "    Machine Learning DevOps Engineer\n",
      "   </a>\n",
      "  </li>\n",
      "  <li>\n",
      "   <a class=\"nav_catalogNavLink__30IaD nav_subSectionLink__CNYvm\" href=\"/courses/machine-learning-engineer-nanodegree--nd009t\">\n",
      "    Machine Learning Engineer\n",
      "   </a>\n",
      "  </li>\n",
      "  <li>\n",
      "   <a class=\"nav_catalogNavLink__30IaD nav_subSectionLink__CNYvm\" href=\"/courses/machine-learning-engineer-for-microsoft-azure-nanodegree--nd00333\">\n",
      "    Machine Learning Engineer for Microsoft Azure\n",
      "   </a>\n",
      "  </li>\n",
      "  <li>\n",
      "   <a class=\"nav_catalogNavLink__30IaD nav_subSectionLink__CNYvm\" href=\"/courses/natural-language-processing-nanodegree--nd892\">\n",
      "    Natural Language Processing\n",
      "   </a>\n",
      "  </li>\n",
      " </ul>\n",
      "</li>\n",
      "\n"
     ]
    }
   ],
   "source": [
    "# print the first summary in summaries\n",
    "print(summaries[7].prettify())"
   ]
  },
  {
   "cell_type": "markdown",
   "metadata": {
    "colab_type": "text",
    "id": "ccbqbVQ9Lo2V"
   },
   "source": [
    "Look for selectors contain the the courses title and school name text you want to extract. Then, use the `select_one` method on the summary object to pull out the html with those selectors. Afterwards, don't forget to do some extra cleaning to isolate the names (get rid of unnecessary html), as you saw in the last video."
   ]
  },
  {
   "cell_type": "code",
   "execution_count": 37,
   "metadata": {
    "colab": {
     "base_uri": "https://localhost:8080/",
     "height": 34
    },
    "colab_type": "code",
    "id": "NNMPAGvDLo2V",
    "outputId": "46030654-359b-4b1b-e2ee-098c6a9e4b26"
   },
   "outputs": [
    {
     "data": {
      "text/plain": [
       "'Artificial Intelligence'"
      ]
     },
     "execution_count": 37,
     "metadata": {},
     "output_type": "execute_result"
    }
   ],
   "source": [
    "# Extract course title\n",
    "summaries[7].select_one(\"a\").get_text().strip()"
   ]
  },
  {
   "cell_type": "code",
   "execution_count": 11,
   "metadata": {
    "colab": {
     "base_uri": "https://localhost:8080/",
     "height": 34
    },
    "colab_type": "code",
    "id": "IOF-lvb3Lo2X",
    "outputId": "16c5bcca-9ebe-417f-b903-a23ed27338bf"
   },
   "outputs": [
    {
     "data": {
      "text/plain": [
       "'School of Data Science'"
      ]
     },
     "execution_count": 11,
     "metadata": {},
     "output_type": "execute_result"
    }
   ],
   "source": [
    "# Extract school\n",
    "summaries[0].select_one(\"h3\").get_text().strip()"
   ]
  },
  {
   "cell_type": "markdown",
   "metadata": {
    "colab_type": "text",
    "id": "ZPVKnBJrLo2Z"
   },
   "source": [
    "### Step 5: Collect names and schools of ALL course listings\n",
    "Reuse your code from the previous step, but now in a loop to extract the name and school from every course summary in `summaries`!"
   ]
  },
  {
   "cell_type": "code",
   "execution_count": 12,
   "metadata": {
    "colab": {},
    "colab_type": "code",
    "id": "pb1YJiHYLo2a"
   },
   "outputs": [],
   "source": [
    "courses = []\n",
    "for summary in summaries:\n",
    "    # append name and school of each summary to courses list\n",
    "    title = summary.select_one(\"h2\").get_text().strip()\n",
    "    school = summary.select_one(\"h3\").get_text().strip()\n",
    "    courses.append((title, school))"
   ]
  },
  {
   "cell_type": "code",
   "execution_count": 13,
   "metadata": {
    "colab": {
     "base_uri": "https://localhost:8080/",
     "height": 370
    },
    "colab_type": "code",
    "id": "bkGCPyxILo2c",
    "outputId": "dc8931f5-3633-4d54-c11f-9511e396d8d8"
   },
   "outputs": [
    {
     "name": "stdout",
     "output_type": "stream",
     "text": [
      "1 course summaries found. Sample:\n"
     ]
    },
    {
     "data": {
      "text/plain": [
       "[('Data Engineer', 'School of Data Science')]"
      ]
     },
     "execution_count": 13,
     "metadata": {},
     "output_type": "execute_result"
    }
   ],
   "source": [
    "# display results\n",
    "print(len(courses), \"course summaries found. Sample:\")\n",
    "courses[:20]"
   ]
  },
  {
   "cell_type": "code",
   "execution_count": null,
   "metadata": {
    "colab": {},
    "colab_type": "code",
    "id": "BpcVoJ1-Lo2e"
   },
   "outputs": [],
   "source": []
  }
 ],
 "metadata": {
  "colab": {
   "name": "cleaning_solution (1).ipynb",
   "provenance": []
  },
  "kernelspec": {
   "display_name": "Python 3",
   "language": "python",
   "name": "python3"
  },
  "language_info": {
   "codemirror_mode": {
    "name": "ipython",
    "version": 3
   },
   "file_extension": ".py",
   "mimetype": "text/x-python",
   "name": "python",
   "nbconvert_exporter": "python",
   "pygments_lexer": "ipython3",
   "version": "3.6.3"
  }
 },
 "nbformat": 4,
 "nbformat_minor": 1
}
